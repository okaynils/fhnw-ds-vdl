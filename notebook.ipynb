{
 "cells": [
  {
   "cell_type": "markdown",
   "metadata": {},
   "source": [
    "# vdl Depth and Class Constrained Diffusion\n",
    "- **Name:** Nils Fahrni\n",
    "- **Date:** 07.01.2025"
   ]
  },
  {
   "cell_type": "markdown",
   "metadata": {},
   "source": [
    "## Dataset Preparation\n",
    "\n",
    "- 894 classes -> 18 classes"
   ]
  },
  {
   "cell_type": "code",
   "execution_count": 72,
   "metadata": {},
   "outputs": [
    {
     "name": "stdout",
     "output_type": "stream",
     "text": [
      "Dataset already exists, skipping download.\n"
     ]
    }
   ],
   "source": [
    "from data.nyuv2 import NYUDepthV2\n",
    "from torchvision import transforms\n",
    "from torch.utils.data import DataLoader\n",
    "\n",
    "mean = [0.5105, 0.4662, 0.4438]\n",
    "std = [0.2273, 0.2275, 0.2409]\n",
    "\n",
    "image_t = transforms.Compose([\n",
    "    transforms.CenterCrop(400),\n",
    "    transforms.Resize(64),\n",
    "    transforms.ToTensor(),\n",
    "    transforms.Normalize(mean, std)\n",
    "])\n",
    "\n",
    "crop_t = transforms.Compose([\n",
    "    transforms.CenterCrop(400),\n",
    "    transforms.Resize(64),\n",
    "    transforms.ToTensor(),\n",
    "])\n",
    "\n",
    "dataset = NYUDepthV2(root='data', \n",
    "                     download=True, \n",
    "                     preload=False, \n",
    "                     image_transform=image_t, \n",
    "                     seg_transform=crop_t, \n",
    "                     depth_transform=crop_t, \n",
    "                     filtered_classes=[5, 11, 21, 26, 2, 3, 7, 64, 144, 19, 119, 157, 28, 55, 15, 59, 4, 83])\n",
    "\n",
    "dataloader = DataLoader(dataset, batch_size=1, shuffle=True, num_workers=4)"
   ]
  },
  {
   "cell_type": "code",
   "execution_count": 73,
   "metadata": {},
   "outputs": [],
   "source": [
    "from data import split_dataset"
   ]
  },
  {
   "cell_type": "code",
   "execution_count": 74,
   "metadata": {},
   "outputs": [
    {
     "data": {
      "text/plain": [
       "(18,)"
      ]
     },
     "execution_count": 74,
     "metadata": {},
     "output_type": "execute_result"
    }
   ],
   "source": [
    "import torch\n",
    "import matplotlib.pyplot as plt\n",
    "\n",
    "def unnormalize(img, mean, std):\n",
    "    mean = torch.tensor(mean).view(-1, 1, 1)  # Reshape to [C, 1, 1]\n",
    "    std = torch.tensor(std).view(-1, 1, 1)    # Reshape to [C, 1, 1]\n",
    "    img = std * img + mean\n",
    "    img = torch.clip(img, 0, 1)\n",
    "    return img\n",
    "\n",
    "dataset[0][4].shape"
   ]
  },
  {
   "cell_type": "code",
   "execution_count": 75,
   "metadata": {},
   "outputs": [],
   "source": [
    "device = torch.device('cuda' if torch.cuda.is_available() else 'cpu')"
   ]
  },
  {
   "cell_type": "markdown",
   "metadata": {},
   "source": [
    "## Modules"
   ]
  },
  {
   "cell_type": "code",
   "execution_count": 76,
   "metadata": {},
   "outputs": [
    {
     "name": "stdout",
     "output_type": "stream",
     "text": [
      "--- Model: UNet_Baseline ---\n",
      "Total parameters: 1771907\n",
      "Input shape: torch.Size([1, 3, 64, 64])\n",
      "Output shape: torch.Size([1, 3, 64, 64])\n",
      "\n",
      "--- Model: UNet_Attn ---\n",
      "Total parameters: 23539331\n",
      "Input shape: torch.Size([1, 3, 64, 64])\n",
      "Output shape: torch.Size([1, 3, 64, 64])\n",
      "\n"
     ]
    }
   ],
   "source": [
    "from core import UNet_Baseline\n",
    "from core import UNet_Attn\n",
    "\n",
    "# Instantiate the model\n",
    "baseline = UNet_Baseline(num_classes=18, device=device).to(device)\n",
    "attn = UNet_Attn(num_classes=18, device=device).to(device)\n",
    "\n",
    "# Dummy inputs\n",
    "x = torch.randn(1, 3, 64, 64).to(device)\n",
    "t = torch.randint(0, 1000, (x.shape[0],)).to(device)\n",
    "class_vector = torch.ones((x.shape[0], 18)).to(device)\n",
    "depth_vector = torch.zeros((x.shape[0], 18)).to(device)\n",
    "\n",
    "for net in [baseline, attn]:\n",
    "    output = net(x, t, class_vector, depth_vector)\n",
    "    print(f'--- Model: {net.__class__.__name__} ---')\n",
    "    print(f\"Total parameters: {sum(p.numel() for p in net.parameters())}\")\n",
    "    print(f'Input shape: {x.shape}')\n",
    "    print(f\"Output shape: {output.shape}\")\n",
    "    print()"
   ]
  },
  {
   "cell_type": "markdown",
   "metadata": {},
   "source": [
    "## Diffusion"
   ]
  },
  {
   "cell_type": "code",
   "execution_count": 77,
   "metadata": {},
   "outputs": [],
   "source": [
    "from diffusion import Diffusion"
   ]
  },
  {
   "cell_type": "markdown",
   "metadata": {},
   "source": [
    "## Trainer"
   ]
  },
  {
   "cell_type": "code",
   "execution_count": 78,
   "metadata": {},
   "outputs": [],
   "source": [
    "from trainer import Trainer"
   ]
  },
  {
   "cell_type": "code",
   "execution_count": 79,
   "metadata": {},
   "outputs": [
    {
     "name": "stdout",
     "output_type": "stream",
     "text": [
      "Training samples: 16\n",
      "Validation samples: 4\n",
      "Testing samples: 4\n"
     ]
    }
   ],
   "source": [
    "train_dataset, val_dataset, test_dataset = split_dataset(dataset[:24], train_ratio=0.7, val_ratio=0.2, test_ratio=0.1)\n",
    "\n",
    "print(f\"Training samples: {len(train_dataset)}\")\n",
    "print(f\"Validation samples: {len(val_dataset)}\")\n",
    "print(f\"Testing samples: {len(test_dataset)}\")\n",
    "\n",
    "train_loader = DataLoader(train_dataset, batch_size=4, shuffle=True)\n",
    "val_loader = DataLoader(val_dataset, batch_size=4, shuffle=False)\n",
    "test_loader = DataLoader(test_dataset, batch_size=4, shuffle=False)"
   ]
  },
  {
   "cell_type": "code",
   "execution_count": 80,
   "metadata": {},
   "outputs": [
    {
     "name": "stderr",
     "output_type": "stream",
     "text": [
      "/var/folders/th/yt_529gn5qj62429rgx8mqzc0000gn/T/ipykernel_85309/1153786167.py:10: FutureWarning: You are using `torch.load` with `weights_only=False` (the current default value), which uses the default pickle module implicitly. It is possible to construct malicious pickle data which will execute arbitrary code during unpickling (See https://github.com/pytorch/pytorch/blob/main/SECURITY.md#untrusted-models for more details). In a future release, the default value for `weights_only` will be flipped to `True`. This limits the functions that could be executed during unpickling. Arbitrary objects will no longer be allowed to be loaded via this mode unless they are explicitly allowlisted by the user via `torch.serialization.add_safe_globals`. We recommend you start setting `weights_only=True` for any use case where you don't have full control of the loaded file. Please open an issue on GitHub for any issues related to this experimental feature.\n",
      "  ema_model.load_state_dict(torch.load('models/unet_attn_dropout_0.2_o6mtkrvr_ema.pth', map_location=device))\n"
     ]
    },
    {
     "data": {
      "text/plain": [
       "<All keys matched successfully>"
      ]
     },
     "execution_count": 80,
     "metadata": {},
     "output_type": "execute_result"
    }
   ],
   "source": [
    "from core import UNet_Attn\n",
    "# import copy here\n",
    "import copy\n",
    "\n",
    "device = torch.device('cuda' if torch.cuda.is_available() else 'cpu')\n",
    "\n",
    "model = UNet_Attn(num_classes=18, dropout_prob=0.2, device=device).to(device)\n",
    "ema_model = copy.deepcopy(model).eval().requires_grad_(False)\n",
    "\n",
    "ema_model.load_state_dict(torch.load('models/unet_attn_dropout_0.2_o6mtkrvr_ema.pth', map_location=device))"
   ]
  },
  {
   "cell_type": "code",
   "execution_count": 81,
   "metadata": {},
   "outputs": [
    {
     "name": "stdout",
     "output_type": "stream",
     "text": [
      "['chair' 'floor' 'wall' 'box' 'bottle' 'cabinet' 'counter' 'picture'\n",
      " 'lamp' 'table' 'pillow' 'bed' 'door' 'bag' 'paper' 'window' 'ceiling'\n",
      " 'sofa']\n"
     ]
    }
   ],
   "source": [
    "# a 894-dimensional class vector with some 1s and 0s\n",
    "class_vector = torch.tensor(dataset[0][3]).unsqueeze(0)\n",
    "depth_vector = torch.tensor(dataset[0][4]).unsqueeze(0)\n",
    "\n",
    "dataset.resolved_names \n",
    "\n",
    "class_vector = torch.tensor([0]*18)\n",
    "print(dataloader.dataset.resolved_names)\n",
    "\n",
    "class_vector[0] = 1\n",
    "class_vector[15] = 1\n",
    "\n",
    "depth_vector = torch.tensor([0]*18)\n",
    "depth_vector[0] = 1.3\n",
    "depth_vector[15] = 3.0"
   ]
  },
  {
   "cell_type": "code",
   "execution_count": 82,
   "metadata": {},
   "outputs": [
    {
     "data": {
      "text/plain": [
       "(torch.Size([18]), torch.Size([18]))"
      ]
     },
     "execution_count": 82,
     "metadata": {},
     "output_type": "execute_result"
    }
   ],
   "source": [
    "class_vector.shape, depth_vector.shape"
   ]
  },
  {
   "cell_type": "code",
   "execution_count": 83,
   "metadata": {},
   "outputs": [
    {
     "name": "stderr",
     "output_type": "stream",
     "text": [
      "01:17:27 - INFO: Sampling 1 new images from UNet_Attn...\n",
      "999it [03:44,  4.45it/s]\n"
     ]
    }
   ],
   "source": [
    "diffusion = Diffusion(beta_start=0.0001, beta_end=0.002, device=device)\n",
    "\n",
    "sampled_images = diffusion.sample(ema_model, 1, torch.tensor(train_dataset[1][3]).unsqueeze(0).to(device), torch.tensor(train_dataset[1][4]).unsqueeze(0).to(device))"
   ]
  },
  {
   "cell_type": "code",
   "execution_count": 84,
   "metadata": {},
   "outputs": [
    {
     "data": {
      "text/plain": [
       "torch.Size([1, 3, 64, 64])"
      ]
     },
     "execution_count": 84,
     "metadata": {},
     "output_type": "execute_result"
    }
   ],
   "source": [
    "sampled_images.shape"
   ]
  },
  {
   "cell_type": "code",
   "execution_count": 85,
   "metadata": {},
   "outputs": [
    {
     "data": {
      "text/plain": [
       "(array([1., 1., 1., 1., 1., 1., 1., 1., 0., 1., 0., 0., 0., 0., 1., 1., 1.,\n",
       "        0.], dtype=float32),\n",
       " array([3.899875 , 5.4697165, 3.951857 , 3.3675194, 4.5320315, 3.1576278,\n",
       "        5.00796  , 9.751564 , 0.       , 4.110116 , 0.       , 0.       ,\n",
       "        0.       , 0.       , 3.459803 , 4.5213976, 3.1027713, 0.       ],\n",
       "       dtype=float32))"
      ]
     },
     "execution_count": 85,
     "metadata": {},
     "output_type": "execute_result"
    }
   ],
   "source": [
    "#plt.imshow(train_dataset[1][0].permute(1,2,0))\n",
    "train_dataset[1][3], train_dataset[1][4]"
   ]
  },
  {
   "cell_type": "code",
   "execution_count": 88,
   "metadata": {},
   "outputs": [
    {
     "name": "stderr",
     "output_type": "stream",
     "text": [
      "01:30:06 - WARNING: Clipping input data to the valid range for imshow with RGB data ([0..1] for floats or [0..255] for integers). Got range [-0.83949333..0.6783387].\n"
     ]
    },
    {
     "data": {
      "image/png": "[encoded data removed]",
      "text/plain": [
       "<Figure size 640x480 with 1 Axes>"
      ]
     },
     "metadata": {},
     "output_type": "display_data"
    }
   ],
   "source": [
    "from data import unnormalize\n",
    "\n",
    "import torch\n",
    "\n",
    "def unnormalize_image(image_tensor, mean, std, value_range=\"[0, 1]\"):\n",
    "    \"\"\"\n",
    "    Unnormalize an image tensor with shape (3, 64, 64).\n",
    "\n",
    "    Args:\n",
    "        image_tensor (torch.Tensor): The input image tensor of shape (3, 64, 64).\n",
    "        mean (list): List of 3 elements representing the mean for each channel (R, G, B).\n",
    "        std (list): List of 3 elements representing the standard deviation for each channel (R, G, B).\n",
    "        value_range (str): The desired range for output values: \"[0, 1]\" or \"[0, 255]\".\n",
    "\n",
    "    Returns:\n",
    "        torch.Tensor: The unnormalized image tensor of shape (3, 64, 64) with values in the specified range.\n",
    "    \"\"\"\n",
    "    if image_tensor.shape != (3, 64, 64):\n",
    "        raise ValueError(\"Input tensor must have shape (3, 64, 64)\")\n",
    "    if len(mean) != 3 or len(std) != 3:\n",
    "        raise ValueError(\"Mean and std must be lists of 3 elements\")\n",
    "    if value_range not in [\"[0, 1]\", \"[0, 255]\"]:\n",
    "        raise ValueError(\"value_range must be either '[0, 1]' or '[0, 255]'\")\n",
    "\n",
    "    # Perform unnormalization\n",
    "    unnormalized = image_tensor.clone()\n",
    "    for channel in range(3):\n",
    "        unnormalized[channel] = unnormalized[channel] * std[channel] + mean[channel]\n",
    "\n",
    "    # Clamp values to [0, 1]\n",
    "    unnormalized = torch.clamp(unnormalized, 0, 1)\n",
    "\n",
    "    # If value_range is [0, 255], scale values accordingly\n",
    "    if value_range == \"[0, 255]\":\n",
    "        unnormalized = unnormalized * 255\n",
    "\n",
    "    return unnormalized\n",
    "\n",
    "import matplotlib.pyplot as plt\n",
    "\n",
    "def plot_image(image_tensor, mean, std, value_range=\"[0, 1]\"):\n",
    "    \"\"\"\n",
    "    Unnormalize and plot an image tensor using matplotlib.\n",
    "\n",
    "    Args:\n",
    "        image_tensor (torch.Tensor): The input image tensor of shape (3, 64, 64).\n",
    "        mean (list): List of 3 elements representing the mean for each channel (R, G, B).\n",
    "        std (list): List of 3 elements representing the standard deviation for each channel (R, G, B).\n",
    "        value_range (str): The desired range for output values: \"[0, 1]\" or \"[0, 255]\".\n",
    "    \"\"\"\n",
    "    # Unnormalize the image\n",
    "    unnormalized_image = unnormalize_image(image_tensor, mean, std, value_range)\n",
    "\n",
    "    # Convert to NumPy array\n",
    "    image_np = unnormalized_image.numpy()\n",
    "\n",
    "    # Transpose to (H, W, C)\n",
    "    image_np = image_np.transpose(1, 2, 0)\n",
    "\n",
    "    # If the range is [0, 255], convert to uint8\n",
    "    if value_range == \"[0, 255]\":\n",
    "        image_np = image_np.astype(\"uint8\")\n",
    "\n",
    "    # Plot the image\n",
    "    plt.imshow(image_np)\n",
    "    plt.axis(\"off\")  # Hide axis for better visualization\n",
    "    plt.show()\n",
    "\n",
    "# Example usage:\n",
    "# Assume `image_tensor` is a tensor with shape (3, 64, 64) and you have mean and std lists\n",
    "# image_tensor = torch.randn(3, 64, 64)  # Example tensor\n",
    "# mean = [0.485, 0.456, 0.406]\n",
    "# std = [0.229, 0.224, 0.225]\n",
    "# plot_image(image_tensor, mean, std, value_range=\"[0, 255]\")\n",
    "\n",
    "plt.imshow(sampled_images[0].cpu().permute(1, 2, 0))\n",
    "plt.show()"
   ]
  },
  {
   "cell_type": "code",
   "execution_count": 91,
   "metadata": {},
   "outputs": [
    {
     "data": {
      "text/plain": [
       "<matplotlib.image.AxesImage at 0x10bd075f0>"
      ]
     },
     "execution_count": 91,
     "metadata": {},
     "output_type": "execute_result"
    },
    {
     "data": {
      "image/png": "[encoded data removed]",
      "text/plain": [
       "<Figure size 640x480 with 1 Axes>"
      ]
     },
     "metadata": {},
     "output_type": "display_data"
    }
   ],
   "source": [
    "plt.imshow(unnormalize(train_dataset[1][0], mean, std).permute(1, 2, 0))"
   ]
  },
  {
   "cell_type": "code",
   "execution_count": 87,
   "metadata": {},
   "outputs": [
    {
     "data": {
      "image/png": "[encoded data removed]",
      "text/plain": [
       "<Figure size 640x480 with 1 Axes>"
      ]
     },
     "metadata": {},
     "output_type": "display_data"
    }
   ],
   "source": [
    "plot_image(sampled_images[0], mean, std, value_range=\"[0, 1]\")"
   ]
  },
  {
   "cell_type": "code",
   "execution_count": null,
   "metadata": {},
   "outputs": [],
   "source": []
  }
 ],
 "metadata": {
  "kernelspec": {
   "display_name": ".venv",
   "language": "python",
   "name": "python3"
  },
  "language_info": {
   "codemirror_mode": {
    "name": "ipython",
    "version": 3
   },
   "file_extension": ".py",
   "mimetype": "text/x-python",
   "name": "python",
   "nbconvert_exporter": "python",
   "pygments_lexer": "ipython3",
   "version": "3.12.4"
  }
 },
 "nbformat": 4,
 "nbformat_minor": 2
}
