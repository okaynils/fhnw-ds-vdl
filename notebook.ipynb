{
 "cells": [
  {
   "cell_type": "markdown",
   "metadata": {},
   "source": [
    "# vdl Depth and Class Constrained Diffusion\n",
    "- **Name:** Nils Fahrni\n",
    "- **Date:** 07.01.2025"
   ]
  },
  {
   "cell_type": "markdown",
   "metadata": {},
   "source": [
    "## Dataset Preparation\n",
    "\n",
    "- 894 classes -> 18 classes"
   ]
  },
  {
   "cell_type": "code",
   "execution_count": 1,
   "metadata": {},
   "outputs": [
    {
     "name": "stdout",
     "output_type": "stream",
     "text": [
      "Dataset already exists, skipping download.\n"
     ]
    }
   ],
   "source": [
    "from data.nyuv2 import NYUDepthV2\n",
    "from torchvision import transforms\n",
    "from torch.utils.data import DataLoader\n",
    "\n",
    "mean = [0.5105, 0.4662, 0.4438]\n",
    "std = [0.2273, 0.2275, 0.2409]\n",
    "\n",
    "image_t = transforms.Compose([\n",
    "    transforms.CenterCrop(400),\n",
    "    transforms.Resize(64),\n",
    "    transforms.ToTensor(),\n",
    "    transforms.Normalize(mean, std)\n",
    "])\n",
    "\n",
    "crop_t = transforms.Compose([\n",
    "    transforms.CenterCrop(400),\n",
    "    transforms.Resize(64),\n",
    "    transforms.ToTensor(),\n",
    "])\n",
    "\n",
    "dataset = NYUDepthV2(root='data', \n",
    "                     download=True, \n",
    "                     preload=False, \n",
    "                     image_transform=image_t, \n",
    "                     seg_transform=crop_t, \n",
    "                     depth_transform=crop_t, \n",
    "                     filtered_classes=[5, 11, 21, 26, 2, 3, 7, 64, 144, 19, 119, 157, 28, 55, 15, 59, 4, 83])\n",
    "\n",
    "dataloader = DataLoader(dataset, batch_size=1, shuffle=True, num_workers=4)"
   ]
  },
  {
   "cell_type": "code",
   "execution_count": 2,
   "metadata": {},
   "outputs": [],
   "source": [
    "from torch.utils.data import Subset\n",
    "import numpy as np\n",
    "\n",
    "def split_dataset(dataset, train_ratio=0.7, val_ratio=0.2, test_ratio=0.1, random_seed=42):\n",
    "    \"\"\"\n",
    "    Splits the dataset into train, validation, and test partitions.\n",
    "\n",
    "    :param dataset: The NYUDepthV2 dataset object.\n",
    "    :param train_ratio: Proportion of the dataset to allocate to the training set.\n",
    "    :param val_ratio: Proportion of the dataset to allocate to the validation set.\n",
    "    :param test_ratio: Proportion of the dataset to allocate to the test set.\n",
    "    :param random_seed: Seed for reproducibility of the split.\n",
    "    :return: A tuple of (train_dataset, val_dataset, test_dataset).\n",
    "    \"\"\"\n",
    "    assert abs(train_ratio + val_ratio + test_ratio - 1.0) < 1e-6, \"Ratios must sum to 1.\"\n",
    "\n",
    "    # Set random seed for reproducibility\n",
    "    np.random.seed(random_seed)\n",
    "    \n",
    "    # Total size of the dataset\n",
    "    total_size = len(dataset)\n",
    "    indices = np.arange(total_size)\n",
    "    \n",
    "    # Shuffle the indices\n",
    "    np.random.shuffle(indices)\n",
    "    \n",
    "    # Calculate split points\n",
    "    train_split = int(train_ratio * total_size)\n",
    "    val_split = train_split + int(val_ratio * total_size)\n",
    "    \n",
    "    # Split the indices\n",
    "    train_indices = indices[:train_split]\n",
    "    val_indices = indices[train_split:val_split]\n",
    "    test_indices = indices[val_split:]\n",
    "    \n",
    "    # Create dataset subsets\n",
    "    train_dataset = Subset(dataset, train_indices)\n",
    "    val_dataset = Subset(dataset, val_indices)\n",
    "    test_dataset = Subset(dataset, test_indices)\n",
    "    \n",
    "    return train_dataset, val_dataset, test_dataset"
   ]
  },
  {
   "cell_type": "code",
   "execution_count": 3,
   "metadata": {},
   "outputs": [
    {
     "data": {
      "text/plain": [
       "(18,)"
      ]
     },
     "execution_count": 3,
     "metadata": {},
     "output_type": "execute_result"
    }
   ],
   "source": [
    "import torch\n",
    "import matplotlib.pyplot as plt\n",
    "\n",
    "def unnormalize(img, mean, std):\n",
    "    mean = torch.tensor(mean).view(-1, 1, 1)  # Reshape to [C, 1, 1]\n",
    "    std = torch.tensor(std).view(-1, 1, 1)    # Reshape to [C, 1, 1]\n",
    "    img = std * img + mean\n",
    "    img = torch.clip(img, 0, 1)\n",
    "    return img\n",
    "\n",
    "dataset[0][4].shape"
   ]
  },
  {
   "cell_type": "markdown",
   "metadata": {},
   "source": [
    "## Modules"
   ]
  },
  {
   "cell_type": "code",
   "execution_count": 4,
   "metadata": {},
   "outputs": [
    {
     "name": "stdout",
     "output_type": "stream",
     "text": [
      "Total parameters: 1771907\n",
      "Output shape: torch.Size([1, 3, 64, 64])\n"
     ]
    }
   ],
   "source": [
    "from core import UNet_Baseline\n",
    "\n",
    "# Instantiate the model\n",
    "net = UNet_Baseline(num_classes=18, device=\"cuda\").to(\"cuda\")\n",
    "print(f\"Total parameters: {sum(p.numel() for p in net.parameters())}\")\n",
    "\n",
    "# Dummy inputs\n",
    "x = torch.randn(1, 3, 64, 64).to(\"cuda\")\n",
    "t = torch.randint(0, 1000, (x.shape[0],)).to(\"cuda\")\n",
    "class_vector = torch.ones((x.shape[0], 18)).to(\"cuda\")\n",
    "depth_vector = torch.zeros((x.shape[0], 18)).to(\"cuda\")\n",
    "\n",
    "# Forward pass\n",
    "output = net(x, t, class_vector, depth_vector)\n",
    "print(f\"Output shape: {output.shape}\")\n"
   ]
  },
  {
   "cell_type": "markdown",
   "metadata": {},
   "source": [
    "## Diffusion"
   ]
  },
  {
   "cell_type": "code",
   "execution_count": 5,
   "metadata": {},
   "outputs": [],
   "source": [
    "import os\n",
    "import copy\n",
    "import numpy as np\n",
    "import torch\n",
    "import torch.nn as nn\n",
    "from tqdm import tqdm\n",
    "from torch import optim\n",
    "import logging\n",
    "\n",
    "logging.basicConfig(format=\"%(asctime)s - %(levelname)s: %(message)s\", level=logging.INFO, datefmt=\"%I:%M:%S\")\n",
    "\n",
    "class Diffusion:\n",
    "    def __init__(self, noise_steps=1000, beta_start=1e-4, beta_end=0.02, img_size=64, device=\"cuda\"):\n",
    "        self.noise_steps = noise_steps\n",
    "        self.beta_start = beta_start\n",
    "        self.beta_end = beta_end\n",
    "\n",
    "        self.beta = self.prepare_noise_schedule().to(device)\n",
    "        self.alpha = 1. - self.beta\n",
    "        self.alpha_hat = torch.cumprod(self.alpha, dim=0)\n",
    "\n",
    "        self.img_size = img_size\n",
    "        self.device = device\n",
    "\n",
    "    def prepare_noise_schedule(self):\n",
    "        return torch.linspace(self.beta_start, self.beta_end, self.noise_steps)\n",
    "\n",
    "    def noise_images(self, x, t):\n",
    "        sqrt_alpha_hat = torch.sqrt(self.alpha_hat[t])[:, None, None, None]\n",
    "        sqrt_one_minus_alpha_hat = torch.sqrt(1 - self.alpha_hat[t])[:, None, None, None]\n",
    "        epsilon = torch.randn_like(x)\n",
    "        return sqrt_alpha_hat * x + sqrt_one_minus_alpha_hat * epsilon, epsilon\n",
    "\n",
    "    def sample_timesteps(self, n):\n",
    "        return torch.randint(low=1, high=self.noise_steps, size=(n,))\n",
    "\n",
    "    def sample(self, model, n, class_vectors=None, depth_vectors=None, cfg_scale=0):\n",
    "        logging.info(f\"Sampling {n} new images from {model.__class__.__name__}...\")\n",
    "        model.eval()\n",
    "\n",
    "        with torch.no_grad():\n",
    "            x = torch.randn((n, 3, self.img_size, self.img_size)).to(self.device)\n",
    "            for i in tqdm(reversed(range(1, self.noise_steps)), position=0):\n",
    "                t = (torch.ones(n) * i).long().to(self.device)\n",
    "                \n",
    "                current_class_vectors = class_vectors if class_vectors is not None else None\n",
    "                current_depth_vectors = depth_vectors if depth_vectors is not None else None\n",
    "              \n",
    "                predicted_noise = model(x, t, current_class_vectors, current_depth_vectors)\n",
    "                \n",
    "                alpha = self.alpha[t][:, None, None, None]\n",
    "                alpha_hat = self.alpha_hat[t][:, None, None, None]\n",
    "                beta = self.beta[t][:, None, None, None]\n",
    "                if i > 1:\n",
    "                    noise = torch.randn_like(x)\n",
    "                else:\n",
    "                    noise = torch.zeros_like(x)\n",
    "                x = 1 / torch.sqrt(alpha) * (x - ((1 - alpha) / (torch.sqrt(1 - alpha_hat))) * predicted_noise) + torch.sqrt(beta) * noise\n",
    "        \n",
    "        model.train()\n",
    "        return x"
   ]
  },
  {
   "cell_type": "markdown",
   "metadata": {},
   "source": [
    "## Trainer"
   ]
  },
  {
   "cell_type": "code",
   "execution_count": 6,
   "metadata": {},
   "outputs": [],
   "source": [
    "import torch\n",
    "import torch.nn.functional as F\n",
    "import copy\n",
    "import os\n",
    "import wandb\n",
    "from core import EMA\n",
    "import logging\n",
    "from metrics import calculate_fid, calculate_psnr\n",
    "\n",
    "logger = logging.getLogger(__name__)\n",
    "\n",
    "\n",
    "class Trainer:\n",
    "    def __init__(self, model, diffusion, optimizer, epochs, device, train_dataloader, val_dataloader=None, \n",
    "                 run_name='diffusion_model', project_name='diffusion_project', save_dir='models', ema_decay=0.995, \n",
    "                 sample_images_every=100, resolved_names=None, scheduler=None):\n",
    "        self.model = model.to(device)\n",
    "        self.diffusion = diffusion\n",
    "        self.optimizer = optimizer\n",
    "        self.scheduler = scheduler\n",
    "        self.epochs = epochs\n",
    "        self.device = device\n",
    "        self.train_dataloader = train_dataloader\n",
    "        self.val_dataloader = val_dataloader\n",
    "        self.run_name = run_name\n",
    "        self.project_name = project_name\n",
    "        self.save_dir = save_dir\n",
    "        self.ema_decay = ema_decay\n",
    "        self.resolved_names = resolved_names\n",
    "\n",
    "        # Initialize EMA\n",
    "        self.ema = EMA(ema_decay)\n",
    "        self.ema_model = copy.deepcopy(model).eval().requires_grad_(False)\n",
    "\n",
    "        # Initialize Weights & Biases\n",
    "        wandb.init(project=self.project_name, name=self.run_name)\n",
    "        self.run_id = wandb.run.id\n",
    "        self.best_val_loss = float('inf')\n",
    "        self.early_stopping_counter = 0\n",
    "        self.sample_images_every = sample_images_every\n",
    "\n",
    "        # Create a models directory if it doesn't exist\n",
    "        os.makedirs(self.save_dir, exist_ok=True)\n",
    "\n",
    "    def _train_epoch(self):\n",
    "        self.model.train()\n",
    "        epoch_loss = 0.0\n",
    "\n",
    "        for images, segments, depths, class_vectors, depth_vectors in self.train_dataloader:\n",
    "            images = images.to(self.device)\n",
    "            class_vectors = class_vectors.to(self.device)\n",
    "            depth_vectors = depth_vectors.to(self.device)\n",
    "\n",
    "            # Sample time steps\n",
    "            t = self.diffusion.sample_timesteps(images.size(0)).to(self.device)\n",
    "\n",
    "            # Add noise to images\n",
    "            x_t, noise = self.diffusion.noise_images(images, t)\n",
    "\n",
    "            # Predict noise using the model\n",
    "            predicted_noise = self.model(x_t, t, class_vectors, depth_vectors)\n",
    "\n",
    "            # Compute loss\n",
    "            loss = F.mse_loss(predicted_noise, noise)\n",
    "\n",
    "            # Backpropagation\n",
    "            self.optimizer.zero_grad()\n",
    "            loss.backward()\n",
    "            self.optimizer.step()\n",
    "\n",
    "            # Update EMA model\n",
    "            self.ema.step_ema(self.ema_model, self.model)\n",
    "\n",
    "            epoch_loss += loss.item()\n",
    "\n",
    "        # Step the scheduler if it's provided\n",
    "        if self.scheduler:\n",
    "            self.scheduler.step()\n",
    "\n",
    "        avg_loss = epoch_loss / len(self.train_dataloader)\n",
    "        return avg_loss\n",
    "\n",
    "    def _validate_epoch(self):\n",
    "        self.model.eval()\n",
    "        val_loss = 0.0\n",
    "\n",
    "        with torch.no_grad():\n",
    "            for images, segments, depths, class_vectors, depth_vectors in self.val_dataloader:\n",
    "                images = images.to(self.device)\n",
    "                class_vectors = class_vectors.to(self.device)\n",
    "                depth_vectors = depth_vectors.to(self.device)\n",
    "\n",
    "                t = self.diffusion.sample_timesteps(images.size(0)).to(self.device)\n",
    "                x_t, noise = self.diffusion.noise_images(images, t)\n",
    "\n",
    "                predicted_noise = self.model(x_t, t, class_vectors, depth_vectors)\n",
    "                loss = F.mse_loss(predicted_noise, noise)\n",
    "\n",
    "                val_loss += loss.item()\n",
    "\n",
    "        avg_val_loss = val_loss / len(self.val_dataloader)\n",
    "        return avg_val_loss\n",
    "\n",
    "    def _save_model(self, val_loss):\n",
    "        if val_loss < self.best_val_loss:\n",
    "            self.best_val_loss = val_loss\n",
    "            model_name = f\"{self.run_name}_{self.run_id}.pth\"\n",
    "            save_path = os.path.join(self.save_dir, model_name)\n",
    "            torch.save(self.model.state_dict(), save_path)\n",
    "            torch.save(self.ema_model.state_dict(), save_path.replace(\".pth\", \"_ema.pth\"))\n",
    "            logger.info(f\"Models saved to {self.save_dir} with val_loss {val_loss:.4f}\")\n",
    "\n",
    "    def _plot_samples(self, n=5, n_present_classes=3, depth_lower=0.1, depth_upper=3.0):\n",
    "        indices = torch.stack([torch.randperm(18)[:n_present_classes] for _ in range(n)])\n",
    "        class_vectors = torch.zeros((n, 18)).to(self.device)\n",
    "        rows = torch.arange(n).unsqueeze(1)\n",
    "        class_vectors[rows, indices] = 1\n",
    "        \n",
    "        depth_vectors = torch.rand(n, 18).to(self.device) * depth_upper + depth_lower\n",
    "        \n",
    "        class_labels = []\n",
    "        for i in range(n):\n",
    "            indices = torch.where(class_vectors[i] == 1)[0].tolist()\n",
    "            labels = [(self.resolved_names[idx], depth_vectors[i, idx].item()) for idx in indices]\n",
    "            class_labels.append(labels)\n",
    "\n",
    "        default_sampled_images = self.diffusion.sample(self.model, n=n, class_vectors=class_vectors, depth_vectors=depth_vectors)\n",
    "        ema_sampled_images = self.diffusion.sample(self.ema_model, n=n, class_vectors=class_vectors, depth_vectors=depth_vectors)\n",
    "        \n",
    "        fig_default, axes_default = plt.subplots(1, n, figsize=(n * 3, 3))\n",
    "        for i, ax in enumerate(axes_default):\n",
    "            img = default_sampled_images[i].permute(1, 2, 0).cpu().numpy()\n",
    "            ax.imshow(img)\n",
    "            ax.axis('off')\n",
    "            ax.set_title(\"\\n\".join([f\"{cls}: {depth:.2f}\" for cls, depth in class_labels[i]]), fontsize=8)\n",
    "        fig_default.tight_layout()\n",
    "        plt.close(fig_default)\n",
    "\n",
    "        fig_ema, axes_ema = plt.subplots(1, n, figsize=(n * 3, 3))\n",
    "        for i, ax in enumerate(axes_ema):\n",
    "            img = ema_sampled_images[i].permute(1, 2, 0).cpu().numpy()\n",
    "            ax.imshow(img)\n",
    "            ax.axis('off')\n",
    "            ax.set_title(\"\\n\".join([f\"{cls}: {depth:.2f}\" for cls, depth in class_labels[i]]), fontsize=8)\n",
    "        fig_ema.tight_layout()\n",
    "        plt.close(fig_ema)\n",
    "        \n",
    "        wandb.log({\"Default Model Samples\": wandb.Image(fig_default),\n",
    "                   \"EMA Model Samples\": wandb.Image(fig_ema)})\n",
    "\n",
    "    def _validate_samples(self, num_samples=100, n_plot=5):\n",
    "        \"\"\"\n",
    "        Validates the model by computing FID and PSNR and logs the results.\n",
    "        Args:\n",
    "            num_samples (int): Number of samples to generate for FID and PSNR calculation.\n",
    "            n_plot (int): Number of real and generated samples to log on WandB.\n",
    "        \"\"\"\n",
    "        self.model.eval()\n",
    "        real_images_list = []\n",
    "        generated_images_list = []\n",
    "        ema_generated_images_list = []\n",
    "        psnr_values = []\n",
    "        plot_real_images = []\n",
    "        plot_generated_images = []\n",
    "        plot_ema_generated_images = []\n",
    "\n",
    "        with torch.no_grad():\n",
    "            for idx, (images, _, _, class_vectors, depth_vectors) in enumerate(self.val_dataloader):\n",
    "                images = images.to(self.device)\n",
    "                class_vectors = class_vectors.to(self.device)\n",
    "                depth_vectors = depth_vectors.to(self.device)\n",
    "\n",
    "                # Collect real images\n",
    "                real_images_list.append(images)\n",
    "                if len(plot_real_images) < n_plot:\n",
    "                    plot_real_images.append(images[:n_plot])\n",
    "\n",
    "                # Generate corresponding images using the default model\n",
    "                generated_images = self.diffusion.sample(self.model, n=images.size(0),\n",
    "                                                          class_vectors=class_vectors,\n",
    "                                                          depth_vectors=depth_vectors)\n",
    "                generated_images_list.append(generated_images)\n",
    "                if len(plot_generated_images) < n_plot:\n",
    "                    plot_generated_images.append(generated_images[:n_plot])\n",
    "\n",
    "                # Generate corresponding images using the EMA model\n",
    "                ema_generated_images = self.diffusion.sample(self.ema_model, n=images.size(0),\n",
    "                                                             class_vectors=class_vectors,\n",
    "                                                             depth_vectors=depth_vectors)\n",
    "                ema_generated_images_list.append(ema_generated_images)\n",
    "                if len(plot_ema_generated_images) < n_plot:\n",
    "                    plot_ema_generated_images.append(ema_generated_images[:n_plot])\n",
    "\n",
    "                # Compute PSNR for the batch\n",
    "                batch_psnr = calculate_psnr(images, generated_images)\n",
    "                psnr_values.append(batch_psnr)\n",
    "\n",
    "                if len(real_images_list) * images.size(0) >= num_samples:\n",
    "                    break\n",
    "\n",
    "        # Concatenate collected images\n",
    "        real_images = torch.cat(real_images_list, dim=0)[:num_samples]\n",
    "        generated_images = torch.cat(generated_images_list, dim=0)[:num_samples]\n",
    "        ema_generated_images = torch.cat(ema_generated_images_list, dim=0)[:num_samples]\n",
    "\n",
    "        # Compute FID\n",
    "        fid_score = calculate_fid(real_images, generated_images, self.device)\n",
    "\n",
    "        # Average PSNR\n",
    "        avg_psnr = sum(psnr_values) / len(psnr_values)\n",
    "\n",
    "        # Log metrics to WandB\n",
    "        wandb.log({\"FID\": fid_score, \"PSNR\": avg_psnr})\n",
    "        logger.info(f\"FID: {fid_score:.4f}, PSNR: {avg_psnr:.4f}\")\n",
    "\n",
    "        # Log sample images to WandB\n",
    "        self._log_samples_to_wandb(torch.cat(plot_real_images, dim=0)[:n_plot],\n",
    "                                   torch.cat(plot_generated_images, dim=0)[:n_plot],\n",
    "                                   torch.cat(plot_ema_generated_images, dim=0)[:n_plot],\n",
    "                                   class_vectors[:n_plot], depth_vectors[:n_plot])\n",
    "\n",
    "    def _log_samples_to_wandb(self, real_images, generated_images, ema_generated_images, class_vectors, depth_vectors):\n",
    "        \"\"\"\n",
    "        Logs real and generated image samples to WandB.\n",
    "        Args:\n",
    "            real_images (torch.Tensor): Batch of real images to log.\n",
    "            generated_images (torch.Tensor): Batch of generated images to log.\n",
    "            ema_generated_images (torch.Tensor): Batch of EMA-generated images to log.\n",
    "            class_vectors (torch.Tensor): Corresponding class vectors.\n",
    "            depth_vectors (torch.Tensor): Corresponding depth vectors.\n",
    "        \"\"\"\n",
    "        fig, axes = plt.subplots(3, len(real_images), figsize=(len(real_images) * 3, 9))\n",
    "\n",
    "        real_images = unnormalize(real_images.cpu(), mean=mean, std=std)\n",
    "        generated_images = unnormalize(generated_images.cpu(), mean=mean, std=std)\n",
    "        \n",
    "        # Add row labels on the left\n",
    "        row_labels = [\"Real Images\", \"Generated Images\", \"Generated Images (EMA)\"]\n",
    "        for row_idx, label in enumerate(row_labels):\n",
    "            axes[row_idx][0].set_ylabel(label, fontsize=12, rotation=0, labelpad=50, ha='right', va='center')\n",
    "\n",
    "        for i, ax in enumerate(axes[0]):\n",
    "            img = real_images[i].permute(1, 2, 0).numpy()\n",
    "            ax.imshow(img)\n",
    "            ax.tick_params(left=False, bottom=False, labelleft=False, labelbottom=False)\n",
    "\n",
    "        for i, ax in enumerate(axes[1]):\n",
    "            img = generated_images[i].permute(1, 2, 0).cpu().numpy()\n",
    "            ax.imshow(img)\n",
    "            ax.tick_params(left=False, bottom=False, labelleft=False, labelbottom=False)\n",
    "\n",
    "        for i, ax in enumerate(axes[2]):\n",
    "            img = ema_generated_images[i].permute(1, 2, 0).cpu().numpy()\n",
    "            ax.imshow(img)\n",
    "            ax.tick_params(left=False, bottom=False, labelleft=False, labelbottom=False)\n",
    "            labels = [f\"{self.resolved_names[idx]}: {depth_vectors[i, idx]:.2f}\"\n",
    "                    for idx in torch.where(class_vectors[i] == 1)[0].tolist()]\n",
    "            ax.set_xlabel(\"\\n\".join(labels), fontsize=8)\n",
    "\n",
    "        # Adjust layout to make space for row labels and x-labels\n",
    "        fig.subplots_adjust(hspace=0.5, wspace=0.3)\n",
    "\n",
    "        fig.tight_layout()\n",
    "        wandb.log({\"Validation Samples\": wandb.Image(fig)})\n",
    "        plt.close(fig)\n",
    "\n",
    "\n",
    "    def run(self):\n",
    "        for epoch in range(self.epochs):\n",
    "            logger.info(f\"Epoch {epoch + 1}/{self.epochs}\")\n",
    "            \n",
    "            current_lr = self.optimizer.param_groups[0]['lr']\n",
    "\n",
    "            train_loss = self._train_epoch()\n",
    "            val_loss = self._validate_epoch()\n",
    "            \n",
    "            wandb.log({\"epoch\": epoch + 1,\n",
    "                       \"train_loss\": train_loss,\n",
    "                       \"val_loss\": val_loss,\n",
    "                       \"learning_rate\": current_lr})\n",
    "            \n",
    "            logger.info(f\"Train Loss: {train_loss:.4f}, Val Loss: {val_loss:.4f}\")\n",
    "            \n",
    "            if epoch % self.sample_images_every == 0:\n",
    "                self._validate_samples(num_samples=100, n_plot=10)\n",
    "\n",
    "            self._save_model(val_loss)\n",
    "\n",
    "    def test(self, test_dataloader):\n",
    "        self.model.eval()\n",
    "        test_loss = 0.0\n",
    "\n",
    "        with torch.no_grad():\n",
    "            for images, segments, depths, class_vectors, depth_vectors in test_dataloader:\n",
    "                images = images.to(self.device)\n",
    "                class_vectors = class_vectors.to(self.device)\n",
    "                depth_vectors = depth_vectors.to(self.device)\n",
    "\n",
    "                t = self.diffusion.sample_timesteps(images.size(0)).to(self.device)\n",
    "                x_t, noise = self.diffusion.noise_images(images, t)\n",
    "\n",
    "                predicted_noise = self.model(x_t, t, class_vectors, depth_vectors)\n",
    "                loss = F.mse_loss(predicted_noise, noise)\n",
    "\n",
    "                test_loss += loss.item()\n",
    "\n",
    "        avg_test_loss = test_loss / len(test_dataloader)\n",
    "        logger.info(f\"Test Loss: {avg_test_loss:.4f}\")\n",
    "        wandb.log({\"test_loss\": avg_test_loss})"
   ]
  },
  {
   "cell_type": "code",
   "execution_count": 7,
   "metadata": {},
   "outputs": [
    {
     "name": "stdout",
     "output_type": "stream",
     "text": [
      "Training samples: 16\n",
      "Validation samples: 4\n",
      "Testing samples: 4\n"
     ]
    }
   ],
   "source": [
    "train_dataset, val_dataset, test_dataset = split_dataset(dataset[:24], train_ratio=0.7, val_ratio=0.2, test_ratio=0.1)\n",
    "\n",
    "print(f\"Training samples: {len(train_dataset)}\")\n",
    "print(f\"Validation samples: {len(val_dataset)}\")\n",
    "print(f\"Testing samples: {len(test_dataset)}\")\n",
    "\n",
    "train_loader = DataLoader(train_dataset, batch_size=4, shuffle=True)\n",
    "val_loader = DataLoader(val_dataset, batch_size=4, shuffle=False)\n",
    "test_loader = DataLoader(test_dataset, batch_size=4, shuffle=False)"
   ]
  },
  {
   "cell_type": "code",
   "execution_count": 8,
   "metadata": {},
   "outputs": [
    {
     "name": "stderr",
     "output_type": "stream",
     "text": [
      "\u001b[34m\u001b[1mwandb\u001b[0m: Using wandb-core as the SDK backend.  Please refer to https://wandb.me/wandb-core for more information.\n",
      "\u001b[34m\u001b[1mwandb\u001b[0m: Currently logged in as: \u001b[33mokaynils\u001b[0m. Use \u001b[1m`wandb login --relogin`\u001b[0m to force relogin\n"
     ]
    },
    {
     "data": {
      "text/html": [
       "Tracking run with wandb version 0.18.7"
      ],
      "text/plain": [
       "<IPython.core.display.HTML object>"
      ]
     },
     "metadata": {},
     "output_type": "display_data"
    },
    {
     "data": {
      "text/html": [
       "Run data is saved locally in <code>c:\\Users\\fahrn\\Documents\\Classes\\vdl\\fhnw-ds-vdl\\wandb\\run-20241226_120934-hc5hxgq4</code>"
      ],
      "text/plain": [
       "<IPython.core.display.HTML object>"
      ]
     },
     "metadata": {},
     "output_type": "display_data"
    },
    {
     "data": {
      "text/html": [
       "Syncing run <strong><a href='https://wandb.ai/okaynils/vdl/runs/hc5hxgq4' target=\"_blank\">Attention_UNet_Overfit</a></strong> to <a href='https://wandb.ai/okaynils/vdl' target=\"_blank\">Weights & Biases</a> (<a href='https://wandb.me/developer-guide' target=\"_blank\">docs</a>)<br/>"
      ],
      "text/plain": [
       "<IPython.core.display.HTML object>"
      ]
     },
     "metadata": {},
     "output_type": "display_data"
    },
    {
     "data": {
      "text/html": [
       " View project at <a href='https://wandb.ai/okaynils/vdl' target=\"_blank\">https://wandb.ai/okaynils/vdl</a>"
      ],
      "text/plain": [
       "<IPython.core.display.HTML object>"
      ]
     },
     "metadata": {},
     "output_type": "display_data"
    },
    {
     "data": {
      "text/html": [
       " View run at <a href='https://wandb.ai/okaynils/vdl/runs/hc5hxgq4' target=\"_blank\">https://wandb.ai/okaynils/vdl/runs/hc5hxgq4</a>"
      ],
      "text/plain": [
       "<IPython.core.display.HTML object>"
      ]
     },
     "metadata": {},
     "output_type": "display_data"
    },
    {
     "name": "stderr",
     "output_type": "stream",
     "text": [
      "12:09:35 - INFO: Epoch 1/5000\n",
      "12:09:37 - INFO: Train Loss: 1.1755, Val Loss: 1.0649\n",
      "12:09:37 - INFO: Sampling 4 new images from UNet_Attn...\n",
      "999it [00:52, 18.93it/s]\n",
      "12:10:29 - INFO: Sampling 4 new images from UNet_Attn...\n",
      "999it [00:50, 19.59it/s]\n",
      "12:11:23 - INFO: FID: 313563047509242803948355584.0000, PSNR: 4.4174\n",
      "12:11:23 - WARNING: Clipping input data to the valid range for imshow with RGB data ([0..1] for floats or [0..255] for integers). Got range [-8.738332..9.385325].\n",
      "12:11:23 - WARNING: Clipping input data to the valid range for imshow with RGB data ([0..1] for floats or [0..255] for integers). Got range [-9.563246..8.954178].\n",
      "12:11:23 - WARNING: Clipping input data to the valid range for imshow with RGB data ([0..1] for floats or [0..255] for integers). Got range [-7.615521..8.594738].\n",
      "12:11:23 - WARNING: Clipping input data to the valid range for imshow with RGB data ([0..1] for floats or [0..255] for integers). Got range [-9.645662..8.049078].\n",
      "12:11:25 - INFO: Models saved to models with val_loss 1.0649\n",
      "12:11:25 - INFO: Epoch 2/5000\n",
      "12:11:26 - INFO: Train Loss: 1.0518, Val Loss: 1.0181\n",
      "12:11:26 - INFO: Models saved to models with val_loss 1.0181\n",
      "12:11:26 - INFO: Epoch 3/5000\n",
      "12:11:27 - INFO: Train Loss: 1.0192, Val Loss: 1.0084\n",
      "12:11:27 - INFO: Models saved to models with val_loss 1.0084\n",
      "12:11:27 - INFO: Epoch 4/5000\n",
      "12:11:28 - INFO: Train Loss: 0.9946, Val Loss: 0.9878\n",
      "12:11:28 - INFO: Models saved to models with val_loss 0.9878\n",
      "12:11:28 - INFO: Epoch 5/5000\n",
      "12:11:29 - INFO: Train Loss: 0.9789, Val Loss: 0.9631\n",
      "12:11:29 - INFO: Models saved to models with val_loss 0.9631\n",
      "12:11:29 - INFO: Epoch 6/5000\n",
      "12:11:30 - INFO: Train Loss: 0.9711, Val Loss: 0.9459\n",
      "12:11:30 - INFO: Models saved to models with val_loss 0.9459\n",
      "12:11:30 - INFO: Epoch 7/5000\n",
      "12:11:31 - INFO: Train Loss: 0.9537, Val Loss: 0.9417\n",
      "12:11:31 - INFO: Models saved to models with val_loss 0.9417\n",
      "12:11:31 - INFO: Epoch 8/5000\n",
      "12:11:32 - INFO: Train Loss: 0.9313, Val Loss: 0.9313\n",
      "12:11:32 - INFO: Models saved to models with val_loss 0.9313\n",
      "12:11:32 - INFO: Epoch 9/5000\n",
      "12:11:33 - INFO: Train Loss: 0.9192, Val Loss: 0.9077\n",
      "12:11:33 - INFO: Models saved to models with val_loss 0.9077\n",
      "12:11:33 - INFO: Epoch 10/5000\n",
      "12:11:34 - INFO: Train Loss: 0.9137, Val Loss: 0.9212\n",
      "12:11:34 - INFO: Epoch 11/5000\n",
      "12:11:35 - INFO: Train Loss: 0.9215, Val Loss: 0.8721\n",
      "12:11:35 - INFO: Models saved to models with val_loss 0.8721\n",
      "12:11:35 - INFO: Epoch 12/5000\n",
      "12:11:36 - INFO: Train Loss: 0.8798, Val Loss: 0.8526\n",
      "12:11:36 - INFO: Models saved to models with val_loss 0.8526\n",
      "12:11:36 - INFO: Epoch 13/5000\n",
      "12:11:37 - INFO: Train Loss: 0.8681, Val Loss: 0.8481\n",
      "12:11:37 - INFO: Models saved to models with val_loss 0.8481\n",
      "12:11:37 - INFO: Epoch 14/5000\n",
      "12:11:38 - INFO: Train Loss: 0.8497, Val Loss: 0.9465\n",
      "12:11:38 - INFO: Epoch 15/5000\n",
      "12:11:38 - INFO: Train Loss: 0.8183, Val Loss: 0.8013\n",
      "12:11:39 - INFO: Models saved to models with val_loss 0.8013\n",
      "12:11:39 - INFO: Epoch 16/5000\n",
      "12:11:39 - INFO: Train Loss: 0.8078, Val Loss: 0.9057\n",
      "12:11:39 - INFO: Epoch 17/5000\n",
      "12:11:40 - INFO: Train Loss: 0.8252, Val Loss: 0.8318\n",
      "12:11:40 - INFO: Epoch 18/5000\n",
      "12:11:40 - INFO: Train Loss: 0.7663, Val Loss: 0.7307\n",
      "12:11:41 - INFO: Models saved to models with val_loss 0.7307\n",
      "12:11:41 - INFO: Epoch 19/5000\n",
      "12:11:41 - INFO: Train Loss: 0.7584, Val Loss: 0.7195\n",
      "12:11:41 - INFO: Models saved to models with val_loss 0.7195\n",
      "12:11:41 - INFO: Epoch 20/5000\n",
      "12:11:42 - INFO: Train Loss: 0.7275, Val Loss: 0.7050\n",
      "12:11:42 - INFO: Models saved to models with val_loss 0.7050\n",
      "12:11:42 - INFO: Epoch 21/5000\n"
     ]
    },
    {
     "ename": "KeyboardInterrupt",
     "evalue": "",
     "output_type": "error",
     "traceback": [
      "\u001b[1;31m---------------------------------------------------------------------------\u001b[0m",
      "\u001b[1;31mKeyboardInterrupt\u001b[0m                         Traceback (most recent call last)",
      "Cell \u001b[1;32mIn[8], line 35\u001b[0m\n\u001b[0;32m     18\u001b[0m \u001b[38;5;66;03m# Initialize trainer\u001b[39;00m\n\u001b[0;32m     19\u001b[0m trainer \u001b[38;5;241m=\u001b[39m Trainer(\n\u001b[0;32m     20\u001b[0m     model\u001b[38;5;241m=\u001b[39mmodel,\n\u001b[0;32m     21\u001b[0m     diffusion\u001b[38;5;241m=\u001b[39mdiffusion,\n\u001b[1;32m   (...)\u001b[0m\n\u001b[0;32m     32\u001b[0m     sample_images_every\u001b[38;5;241m=\u001b[39m\u001b[38;5;241m500\u001b[39m\n\u001b[0;32m     33\u001b[0m )\n\u001b[1;32m---> 35\u001b[0m \u001b[43mtrainer\u001b[49m\u001b[38;5;241;43m.\u001b[39;49m\u001b[43mrun\u001b[49m\u001b[43m(\u001b[49m\u001b[43m)\u001b[49m\n",
      "Cell \u001b[1;32mIn[6], line 274\u001b[0m, in \u001b[0;36mTrainer.run\u001b[1;34m(self)\u001b[0m\n\u001b[0;32m    270\u001b[0m logger\u001b[38;5;241m.\u001b[39minfo(\u001b[38;5;124mf\u001b[39m\u001b[38;5;124m\"\u001b[39m\u001b[38;5;124mEpoch \u001b[39m\u001b[38;5;132;01m{\u001b[39;00mepoch\u001b[38;5;250m \u001b[39m\u001b[38;5;241m+\u001b[39m\u001b[38;5;250m \u001b[39m\u001b[38;5;241m1\u001b[39m\u001b[38;5;132;01m}\u001b[39;00m\u001b[38;5;124m/\u001b[39m\u001b[38;5;132;01m{\u001b[39;00m\u001b[38;5;28mself\u001b[39m\u001b[38;5;241m.\u001b[39mepochs\u001b[38;5;132;01m}\u001b[39;00m\u001b[38;5;124m\"\u001b[39m)\n\u001b[0;32m    272\u001b[0m current_lr \u001b[38;5;241m=\u001b[39m \u001b[38;5;28mself\u001b[39m\u001b[38;5;241m.\u001b[39moptimizer\u001b[38;5;241m.\u001b[39mparam_groups[\u001b[38;5;241m0\u001b[39m][\u001b[38;5;124m'\u001b[39m\u001b[38;5;124mlr\u001b[39m\u001b[38;5;124m'\u001b[39m]\n\u001b[1;32m--> 274\u001b[0m train_loss \u001b[38;5;241m=\u001b[39m \u001b[38;5;28;43mself\u001b[39;49m\u001b[38;5;241;43m.\u001b[39;49m\u001b[43m_train_epoch\u001b[49m\u001b[43m(\u001b[49m\u001b[43m)\u001b[49m\n\u001b[0;32m    275\u001b[0m val_loss \u001b[38;5;241m=\u001b[39m \u001b[38;5;28mself\u001b[39m\u001b[38;5;241m.\u001b[39m_validate_epoch()\n\u001b[0;32m    277\u001b[0m wandb\u001b[38;5;241m.\u001b[39mlog({\u001b[38;5;124m\"\u001b[39m\u001b[38;5;124mepoch\u001b[39m\u001b[38;5;124m\"\u001b[39m: epoch \u001b[38;5;241m+\u001b[39m \u001b[38;5;241m1\u001b[39m,\n\u001b[0;32m    278\u001b[0m            \u001b[38;5;124m\"\u001b[39m\u001b[38;5;124mtrain_loss\u001b[39m\u001b[38;5;124m\"\u001b[39m: train_loss,\n\u001b[0;32m    279\u001b[0m            \u001b[38;5;124m\"\u001b[39m\u001b[38;5;124mval_loss\u001b[39m\u001b[38;5;124m\"\u001b[39m: val_loss,\n\u001b[0;32m    280\u001b[0m            \u001b[38;5;124m\"\u001b[39m\u001b[38;5;124mlearning_rate\u001b[39m\u001b[38;5;124m\"\u001b[39m: current_lr})\n",
      "Cell \u001b[1;32mIn[6], line 50\u001b[0m, in \u001b[0;36mTrainer._train_epoch\u001b[1;34m(self)\u001b[0m\n\u001b[0;32m     47\u001b[0m epoch_loss \u001b[38;5;241m=\u001b[39m \u001b[38;5;241m0.0\u001b[39m\n\u001b[0;32m     49\u001b[0m \u001b[38;5;28;01mfor\u001b[39;00m images, segments, depths, class_vectors, depth_vectors \u001b[38;5;129;01min\u001b[39;00m \u001b[38;5;28mself\u001b[39m\u001b[38;5;241m.\u001b[39mtrain_dataloader:\n\u001b[1;32m---> 50\u001b[0m     images \u001b[38;5;241m=\u001b[39m \u001b[43mimages\u001b[49m\u001b[38;5;241;43m.\u001b[39;49m\u001b[43mto\u001b[49m\u001b[43m(\u001b[49m\u001b[38;5;28;43mself\u001b[39;49m\u001b[38;5;241;43m.\u001b[39;49m\u001b[43mdevice\u001b[49m\u001b[43m)\u001b[49m\n\u001b[0;32m     51\u001b[0m     class_vectors \u001b[38;5;241m=\u001b[39m class_vectors\u001b[38;5;241m.\u001b[39mto(\u001b[38;5;28mself\u001b[39m\u001b[38;5;241m.\u001b[39mdevice)\n\u001b[0;32m     52\u001b[0m     depth_vectors \u001b[38;5;241m=\u001b[39m depth_vectors\u001b[38;5;241m.\u001b[39mto(\u001b[38;5;28mself\u001b[39m\u001b[38;5;241m.\u001b[39mdevice)\n",
      "\u001b[1;31mKeyboardInterrupt\u001b[0m: "
     ]
    }
   ],
   "source": [
    "from core import UNet_Attn\n",
    "\n",
    "epochs = 5000\n",
    "learning_rate = 1e-5\n",
    "device = torch.device('cuda' if torch.cuda.is_available() else 'mps')\n",
    "\n",
    "# Initialize model\n",
    "num_classes = 18\n",
    "model = UNet_Attn(num_classes=num_classes, device=device)\n",
    "\n",
    "# Initialize diffusion process\n",
    "diffusion = Diffusion(noise_steps=1000, beta_start=0.0001, beta_end=0.002, img_size=64, device=\"cuda\")\n",
    "\n",
    "# Initialize optimizer\n",
    "optimizer = torch.optim.AdamW(model.parameters(), lr=learning_rate)\n",
    "scheduler = torch.optim.lr_scheduler.CosineAnnealingLR(optimizer, T_max=epochs)\n",
    "\n",
    "# Initialize trainer\n",
    "trainer = Trainer(\n",
    "    model=model,\n",
    "    diffusion=diffusion,\n",
    "    optimizer=optimizer,\n",
    "    epochs=epochs,\n",
    "    device=device,\n",
    "    train_dataloader=train_loader,\n",
    "    val_dataloader=val_loader,\n",
    "    run_name='Attention_UNet_Overfit',\n",
    "    project_name='vdl',\n",
    "    save_dir='models',\n",
    "    resolved_names=dataset.resolved_names,\n",
    "    scheduler=scheduler,\n",
    "    sample_images_every=500\n",
    ")\n",
    "\n",
    "trainer.run()"
   ]
  },
  {
   "cell_type": "code",
   "execution_count": 8,
   "metadata": {},
   "outputs": [
    {
     "ename": "NameError",
     "evalue": "name 'trainer' is not defined",
     "output_type": "error",
     "traceback": [
      "\u001b[1;31m---------------------------------------------------------------------------\u001b[0m",
      "\u001b[1;31mNameError\u001b[0m                                 Traceback (most recent call last)",
      "Cell \u001b[1;32mIn[8], line 1\u001b[0m\n\u001b[1;32m----> 1\u001b[0m \u001b[43mtrainer\u001b[49m\u001b[38;5;241m.\u001b[39mtest(test_loader)\n",
      "\u001b[1;31mNameError\u001b[0m: name 'trainer' is not defined"
     ]
    }
   ],
   "source": [
    "trainer.test(test_loader)"
   ]
  },
  {
   "cell_type": "code",
   "execution_count": 10,
   "metadata": {},
   "outputs": [
    {
     "name": "stderr",
     "output_type": "stream",
     "text": [
      "C:\\Users\\fahrn\\AppData\\Local\\Temp\\ipykernel_23376\\4167768017.py:8: FutureWarning: You are using `torch.load` with `weights_only=False` (the current default value), which uses the default pickle module implicitly. It is possible to construct malicious pickle data which will execute arbitrary code during unpickling (See https://github.com/pytorch/pytorch/blob/main/SECURITY.md#untrusted-models for more details). In a future release, the default value for `weights_only` will be flipped to `True`. This limits the functions that could be executed during unpickling. Arbitrary objects will no longer be allowed to be loaded via this mode unless they are explicitly allowlisted by the user via `torch.serialization.add_safe_globals`. We recommend you start setting `weights_only=True` for any use case where you don't have full control of the loaded file. Please open an issue on GitHub for any issues related to this experimental feature.\n",
      "  ema_model.load_state_dict(torch.load('models/Attention_UNet_Overfit_raft37dt_ema.pth', map_location=device))\n"
     ]
    },
    {
     "data": {
      "text/plain": [
       "<All keys matched successfully>"
      ]
     },
     "execution_count": 10,
     "metadata": {},
     "output_type": "execute_result"
    }
   ],
   "source": [
    "from core import UNet_Attn\n",
    "\n",
    "device = torch.device('cuda' if torch.cuda.is_available() else 'cpu')\n",
    "\n",
    "model = UNet_Attn(num_classes=18).to(device)\n",
    "ema_model = copy.deepcopy(model).eval().requires_grad_(False)  # Create a new EMA model instance\n",
    "\n",
    "ema_model.load_state_dict(torch.load('models/Attention_UNet_Overfit_raft37dt_ema.pth', map_location=device))"
   ]
  },
  {
   "cell_type": "code",
   "execution_count": 11,
   "metadata": {},
   "outputs": [],
   "source": [
    "# a 894-dimensional class vector with some 1s and 0s\n",
    "class_vector = torch.tensor(dataset[0][3]).unsqueeze(0)\n",
    "depth_vector = torch.tensor(dataset[0][4]).unsqueeze(0)"
   ]
  },
  {
   "cell_type": "code",
   "execution_count": 12,
   "metadata": {},
   "outputs": [
    {
     "data": {
      "text/plain": [
       "(torch.Size([1, 18]), torch.Size([1, 18]))"
      ]
     },
     "execution_count": 12,
     "metadata": {},
     "output_type": "execute_result"
    }
   ],
   "source": [
    "class_vector.shape, depth_vector.shape"
   ]
  },
  {
   "cell_type": "code",
   "execution_count": 13,
   "metadata": {},
   "outputs": [
    {
     "name": "stderr",
     "output_type": "stream",
     "text": [
      "11:41:02 - INFO: Sampling 1 new images from UNet_Attn...\n",
      "0it [00:00, ?it/s]"
     ]
    },
    {
     "name": "stderr",
     "output_type": "stream",
     "text": [
      "999it [00:17, 55.76it/s]\n"
     ]
    }
   ],
   "source": [
    "diffusion = Diffusion(noise_steps=1000, beta_start=0.0001, beta_end=0.002, img_size=64, device=\"cuda\")\n",
    "\n",
    "sampled_images = diffusion.sample(ema_model, 1, torch.tensor(train_dataset[1][3]).unsqueeze(0).to(device), torch.tensor(train_dataset[1][4]).unsqueeze(0).to(device))"
   ]
  },
  {
   "cell_type": "code",
   "execution_count": 14,
   "metadata": {},
   "outputs": [
    {
     "data": {
      "text/plain": [
       "torch.Size([1, 3, 64, 64])"
      ]
     },
     "execution_count": 14,
     "metadata": {},
     "output_type": "execute_result"
    }
   ],
   "source": [
    "sampled_images.shape"
   ]
  },
  {
   "cell_type": "code",
   "execution_count": 15,
   "metadata": {},
   "outputs": [
    {
     "data": {
      "text/plain": [
       "(array([0., 1., 1., 1., 0., 1., 0., 0., 0., 1., 0., 0., 0., 0., 1., 0., 1.,\n",
       "        0.], dtype=float32),\n",
       " array([0.       , 5.6192665, 3.973346 , 2.3689427, 0.       , 2.1447854,\n",
       "        0.       , 0.       , 0.       , 3.567893 , 0.       , 0.       ,\n",
       "        0.       , 0.       , 2.3631027, 0.       , 3.085227 , 0.       ],\n",
       "       dtype=float32))"
      ]
     },
     "execution_count": 15,
     "metadata": {},
     "output_type": "execute_result"
    }
   ],
   "source": [
    "#plt.imshow(train_dataset[1][0].permute(1,2,0))\n",
    "train_dataset[1][3], train_dataset[1][4]"
   ]
  },
  {
   "cell_type": "code",
   "execution_count": 16,
   "metadata": {},
   "outputs": [
    {
     "name": "stderr",
     "output_type": "stream",
     "text": [
      "11:41:24 - WARNING: Clipping input data to the valid range for imshow with RGB data ([0..1] for floats or [0..255] for integers). Got range [-1.696281..1.820984].\n"
     ]
    },
    {
     "data": {
      "image/png": "[encoded data removed]",
      "text/plain": [
       "<Figure size 1000x500 with 2 Axes>"
      ]
     },
     "metadata": {},
     "output_type": "display_data"
    },
    {
     "data": {
      "text/plain": [
       "tensor([[[ 3.7311e-02,  7.5761e-02,  1.2611e-02,  ..., -7.8920e-02,\n",
       "           5.3719e-02,  7.0011e-02],\n",
       "         [ 2.8552e-02,  4.1602e-02,  4.8338e-02,  ...,  7.6114e-03,\n",
       "          -2.3722e-02, -1.2175e-01],\n",
       "         [ 1.8701e-02,  1.3992e-02,  4.0341e-02,  ...,  5.0359e-02,\n",
       "           3.4249e-02,  9.6143e-03],\n",
       "         ...,\n",
       "         [-5.1202e-02, -7.8198e-02, -7.2400e-02,  ..., -1.5632e-01,\n",
       "          -2.4988e-01, -9.7125e-02],\n",
       "         [-2.7557e-02, -6.7322e-02, -1.1067e-01,  ..., -6.9369e-02,\n",
       "          -8.2046e-02,  7.7235e-02],\n",
       "         [ 8.0680e-02,  6.4730e-02, -1.4687e-01,  ..., -6.5196e-02,\n",
       "          -1.9238e-01,  4.0087e-02]],\n",
       "\n",
       "        [[ 6.3577e-02,  4.7199e-02,  5.9052e-02,  ..., -1.4432e-02,\n",
       "           9.3928e-02,  1.9572e-01],\n",
       "         [ 8.0538e-02,  6.2441e-02,  7.0518e-02,  ...,  2.0192e-03,\n",
       "           9.1649e-05, -1.2000e-02],\n",
       "         [ 4.1432e-02,  4.4350e-02,  5.5098e-02,  ...,  6.2148e-02,\n",
       "           4.0629e-02,  4.5015e-02],\n",
       "         ...,\n",
       "         [ 5.3327e-02, -4.9383e-02, -6.8943e-02,  ..., -1.4855e-01,\n",
       "          -2.2711e-01, -1.5111e-01],\n",
       "         [ 7.3230e-02,  2.8214e-04, -9.8831e-02,  ..., -1.3875e-02,\n",
       "          -8.9901e-02,  3.9138e-02],\n",
       "         [-2.0639e-01,  1.1286e-01, -2.7636e-02,  ..., -5.5603e-02,\n",
       "          -1.1382e-01,  2.7101e-02]],\n",
       "\n",
       "        [[ 1.9484e-01,  1.1097e-01,  7.2642e-02,  ..., -1.6364e-01,\n",
       "          -7.6479e-03, -2.6762e-02],\n",
       "         [ 7.9951e-02,  9.8966e-02,  8.2017e-02,  ..., -1.1467e-02,\n",
       "          -7.5398e-03,  6.4657e-03],\n",
       "         [ 9.9677e-02,  5.9683e-02,  8.5172e-02,  ...,  5.6709e-02,\n",
       "           5.1100e-02, -8.1967e-03],\n",
       "         ...,\n",
       "         [-3.4088e-03, -3.6731e-03, -2.3502e-02,  ..., -1.5408e-01,\n",
       "          -1.8614e-01, -1.7277e-01],\n",
       "         [ 1.4727e-01,  5.2427e-02, -1.6163e-02,  ..., -3.1762e-02,\n",
       "          -4.8874e-02, -2.5108e-02],\n",
       "         [ 4.1237e-01,  9.3633e-02,  4.2023e-02,  ..., -4.4899e-02,\n",
       "          -1.3723e-01, -2.2649e-03]]], device='cuda:0')"
      ]
     },
     "execution_count": 16,
     "metadata": {},
     "output_type": "execute_result"
    }
   ],
   "source": [
    "# plot the sampled image next to the original image\n",
    "plt.figure(figsize=(10, 5))\n",
    "plt.subplot(1, 2, 1)\n",
    "\n",
    "plt.imshow(dataset[0][0].permute(1, 2, 0))\n",
    "plt.title('Original Image')\n",
    "plt.axis('off')\n",
    "\n",
    "plt.subplot(1, 2, 2)\n",
    "plt.imshow(unnormalize(sampled_images[0].cpu(), mean, std).cpu().permute(1, 2, 0))\n",
    "plt.title('Sampled Image')\n",
    "plt.axis('off')\n",
    "\n",
    "plt.show()\n",
    "\n",
    "sampled_images[0]"
   ]
  },
  {
   "cell_type": "code",
   "execution_count": null,
   "metadata": {},
   "outputs": [],
   "source": []
  }
 ],
 "metadata": {
  "kernelspec": {
   "display_name": ".venv",
   "language": "python",
   "name": "python3"
  },
  "language_info": {
   "codemirror_mode": {
    "name": "ipython",
    "version": 3
   },
   "file_extension": ".py",
   "mimetype": "text/x-python",
   "name": "python",
   "nbconvert_exporter": "python",
   "pygments_lexer": "ipython3",
   "version": "3.12.5"
  }
 },
 "nbformat": 4,
 "nbformat_minor": 2
}
