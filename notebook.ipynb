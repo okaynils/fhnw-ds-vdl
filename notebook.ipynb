{
 "cells": [
  {
   "cell_type": "markdown",
   "metadata": {},
   "source": [
    "# vdl Depth and Class Constrained Diffusion\n",
    "- **Name:** Nils Fahrni\n",
    "- **Date:** 07.01.2025"
   ]
  },
  {
   "cell_type": "markdown",
   "metadata": {},
   "source": [
    "## Dataset Preparation\n",
    "\n",
    "- 894 classes -> 18 classes"
   ]
  },
  {
   "cell_type": "code",
   "execution_count": 1,
   "metadata": {},
   "outputs": [
    {
     "name": "stdout",
     "output_type": "stream",
     "text": [
      "Dataset already exists, skipping download.\n"
     ]
    }
   ],
   "source": [
    "from data.nyuv2 import NYUDepthV2\n",
    "from torchvision import transforms\n",
    "from torch.utils.data import DataLoader\n",
    "import torch\n",
    "\n",
    "mean = [0.5105, 0.4662, 0.4438]\n",
    "std = [0.2273, 0.2275, 0.2409]\n",
    "\n",
    "image_t = transforms.Compose([\n",
    "    transforms.CenterCrop(400),\n",
    "    transforms.Resize(64),\n",
    "    transforms.ToTensor(),\n",
    "    transforms.Normalize(mean, std)\n",
    "])\n",
    "\n",
    "crop_t = transforms.Compose([\n",
    "    transforms.CenterCrop(400),\n",
    "    transforms.Resize(64),\n",
    "    transforms.ToTensor(),\n",
    "])\n",
    "\n",
    "dataset = NYUDepthV2(root='data', \n",
    "                     download=True, \n",
    "                     preload=False, \n",
    "                     image_transform=image_t, \n",
    "                     seg_transform=crop_t, \n",
    "                     depth_transform=crop_t, \n",
    "                     filtered_classes=[5, 11, 21, 26, 2, 3, 7, 64, 144, 19, 119, 157, 28, 55, 15, 59, 4, 83])\n",
    "\n",
    "dataloader = DataLoader(dataset, batch_size=1, shuffle=True, num_workers=4)"
   ]
  },
  {
   "cell_type": "code",
   "execution_count": 2,
   "metadata": {},
   "outputs": [],
   "source": [
    "from data import split_dataset"
   ]
  },
  {
   "cell_type": "code",
   "execution_count": 3,
   "metadata": {},
   "outputs": [],
   "source": [
    "device = torch.device('cuda' if torch.cuda.is_available() else 'cpu')"
   ]
  },
  {
   "cell_type": "code",
   "execution_count": 4,
   "metadata": {},
   "outputs": [],
   "source": [
    "import torch.nn as nn\n",
    "import wandb\n",
    "import matplotlib.pyplot as plt\n",
    "import copy\n",
    "import os\n",
    "from diffusion import Diffusion\n",
    "import hydra\n",
    "from hydra.utils import instantiate\n",
    "from omegaconf import DictConfig, OmegaConf\n",
    "\n",
    "class Analyzer:\n",
    "    def __init__(self, model: nn.Module, device: str=\"cpu\", project_name: str=\"vdl\", entity_name: str=\"okaynils\", diffusion_params: dict=None):\n",
    "        self.model = model\n",
    "        self.ema_model = None\n",
    "        self.device = device\n",
    "        self.project_name = project_name\n",
    "        self.entity_name = entity_name\n",
    "        self.history = None\n",
    "        self.run_name = None\n",
    "        self.elapsed_time = None\n",
    "        \n",
    "        if diffusion_params == None:\n",
    "            diffusion_params = OmegaConf.load('configs/trainer/default.yaml').diffusion\n",
    "            \n",
    "        self.diffusion = Diffusion(\n",
    "            noise_steps=diffusion_params.noise_steps,\n",
    "            beta_start=diffusion_params.beta_start,\n",
    "            beta_end=diffusion_params.beta_end,\n",
    "            img_size=diffusion_params.img_size,\n",
    "            device=self.device\n",
    "        )\n",
    "    \n",
    "    def model_receipt(self):\n",
    "        total_params = sum(p.numel() for p in self.model.parameters())\n",
    "        trainable_params = sum(p.numel() for p in self.model.parameters() if p.requires_grad)\n",
    "        non_trainable_params = total_params - trainable_params\n",
    "        device = next(self.model.parameters()).device\n",
    "        \n",
    "        print(f\"--- Model Receipt for {self.model.__class__.__name__} ---\")\n",
    "        if self.elapsed_time:\n",
    "            print(f\"\\nTraining Time: {self.elapsed_time/60**2:.2f} hours\")\n",
    "        print(f\"Total parameters: {total_params}\")\n",
    "        print(f\"Trainable parameters: {trainable_params}\")\n",
    "        print(f\"Non-trainable parameters: {non_trainable_params}\")\n",
    "        print(f\"Device: {device}\")\n",
    "        \n",
    "        print(\"\\nModel Architecture:\\n\")\n",
    "        print(self.model)\n",
    "        \n",
    "    def plot(self, run_id: str):\n",
    "        if self.history is None:\n",
    "            self._fetch_data(run_id)\n",
    "        \n",
    "        train_loss = [entry['train_loss'] for entry in self.history if entry['train_loss'] is not None]\n",
    "        val_loss = [entry['val_loss'] for entry in self.history if entry['val_loss'] is not None]\n",
    "        fid = [entry['FID'] for entry in self.history if entry['FID'] is not None]\n",
    "        psnr = [entry['PSNR'] for entry in self.history if entry['PSNR'] is not None]\n",
    "\n",
    "        fig, axes = plt.subplots(1, 3, figsize=(20, 6))\n",
    "\n",
    "        axes[0].plot(train_loss, label='Train Loss', marker='o')\n",
    "        axes[0].plot(val_loss, label='Validation Loss', marker='x')\n",
    "        axes[0].set_title('Training and Validation Loss')\n",
    "        axes[0].set_xlabel('Epoch')\n",
    "        axes[0].set_ylabel('MSE Loss')\n",
    "        axes[0].legend()\n",
    "        axes[0].grid(True)\n",
    "\n",
    "        fid_epochs = [i * 50 for i in range(len(fid))]\n",
    "        axes[1].plot(fid_epochs, fid, label='FID', marker='o', color='orange')\n",
    "        axes[1].set_title('FID Metric')\n",
    "        axes[1].set_xlabel('Epoch')\n",
    "        axes[1].set_ylabel('FID Value')\n",
    "        axes[1].legend()\n",
    "        axes[1].grid(True)\n",
    "\n",
    "        psnr_epochs = [i * 50 for i in range(len(psnr))]\n",
    "        axes[2].plot(psnr_epochs, psnr, label='PSNR', marker='x', color='green')\n",
    "        axes[2].set_title('PSNR Metric')\n",
    "        axes[2].set_xlabel('Epoch')\n",
    "        axes[2].set_ylabel('PSNR Value')\n",
    "        axes[2].legend()\n",
    "        axes[2].grid(True)\n",
    "\n",
    "        fig.suptitle(f'Run: {self.run_name}', fontsize=16)\n",
    "        plt.tight_layout(rect=[0, 0, 1, 0.95])\n",
    "        plt.show()\n",
    "        \n",
    "    def sample_images(self, run_id: str,  class_vects: torch.tensor, depth_vects: torch.tensor, n_samples: int=5):\n",
    "        self._load_model_weights(run_id)\n",
    "        \n",
    "        if len(class_vects) != n_samples:\n",
    "            class_vects = class_vects.repeat(n_samples, 1)\n",
    "        if len(depth_vects) != n_samples:\n",
    "            depth_vects = depth_vects.repeat(n_samples, 1)\n",
    "        \n",
    "        default_sampled_images = self.diffusion.sample(self.model, n_samples, class_vects.to(self.device), depth_vects.to(self.device))\n",
    "        ema_sampled_images = self.diffusion.sample(self.ema_model, n_samples, class_vects.to(self.device), depth_vects.to(self.device))\n",
    "    \n",
    "        print(\"Default Model Samples:\")\n",
    "        print(f'ema: {ema_sampled_images[0].shape}')\n",
    "        print(f'default: {default_sampled_images[0].shape}')\n",
    "        \n",
    "    def _get_model_path(self, run_id: str):\n",
    "        models = os.listdir('models')\n",
    "        model_path = None\n",
    "        ema_model_path = None\n",
    "        for model in models:\n",
    "            run_name = model.split('_')\n",
    "            if len(run_name) > 1:\n",
    "                if model.split('_')[-2] == 'ema' and run_name[-1].split('.')[0] == run_id:\n",
    "                    ema_model_path = model\n",
    "                    continue\n",
    "                if run_name[-1].split('.')[0] == run_id:\n",
    "                    model_path = model\n",
    "        return model_path, ema_model_path\n",
    "        \n",
    "    def _load_model_weights(self, run_id: str):\n",
    "        model_path, ema_model_path = self._get_model_path(run_id)\n",
    "        \n",
    "        self.ema_model = copy.deepcopy(self.model).eval().requires_grad_(False)\n",
    "        self.model.load_state_dict(torch.load(f'models/{model_path}', map_location=device, weights_only=True))\n",
    "        self.model.to(self.device)\n",
    "        if ema_model_path:\n",
    "            self.ema_model.load_state_dict(torch.load(f'models/{ema_model_path}', map_location=device, weights_only=True))\n",
    "            self.model.to(self.device)\n",
    "    \n",
    "    \n",
    "    def _fetch_data(self, run_id: str):\n",
    "        api = wandb.Api()\n",
    "        try:\n",
    "            run = api.run(f\"{self.entity_name}/{self.project_name}/{run_id}\")\n",
    "            self.run_name = run.name\n",
    "            self.elapsed_time = run.summary.get('_runtime', None)\n",
    "            self.history = run.history(pandas=False)\n",
    "        except wandb.errors.CommError as e:\n",
    "            raise ValueError(f\"Error fetching run: {e}\")\n"
   ]
  },
  {
   "cell_type": "code",
   "execution_count": 8,
   "metadata": {},
   "outputs": [
    {
     "name": "stdout",
     "output_type": "stream",
     "text": [
      "Input shape: torch.Size([4, 3, 64, 64])\n",
      "Output shape: torch.Size([4, 3, 64, 64])\n"
     ]
    }
   ],
   "source": [
    "import torch\n",
    "from core import UNet_Attn\n",
    "\n",
    "# Define model parameters\n",
    "c_in = 3 # Number of input channels (e.g., RGB image)\n",
    "c_out = 3  # Number of output channels\n",
    "H, W = 64, 64  # Height and width of input image\n",
    "batch_size = 4  # Batch size\n",
    "time_dim = 256  # Dimensionality of time encoding\n",
    "num_classes = 18  # Number of classes (if applicable)\n",
    "\n",
    "# Create sample inputs\n",
    "x = torch.randn(batch_size, c_in, H, W)  # Input image tensor\n",
    "t = torch.randint(0, 1000, (batch_size,))  # Random time steps\n",
    "class_vector = torch.randn(batch_size, num_classes)  # Random class embeddings\n",
    "depth_vector = torch.randn(batch_size, num_classes)  # Random depth embeddings\n",
    "\n",
    "# Initialize the model\n",
    "model = UNet_Attn(\n",
    "    c_in=c_in,\n",
    "    c_out=c_out,\n",
    "    time_dim=time_dim,\n",
    "    num_classes=num_classes,\n",
    "    device=\"cpu\",  # Change to \"cuda\" if using GPU\n",
    "    dropout_prob=0.1,\n",
    ")\n",
    "\n",
    "# Run the model in evaluation mode\n",
    "model.eval()\n",
    "with torch.no_grad():\n",
    "    output = model(x, t, class_vector, depth_vector)\n",
    "\n",
    "# Check output shape\n",
    "print(f\"Input shape: {x.shape}\")\n",
    "print(f\"Output shape: {output.shape}\")\n"
   ]
  },
  {
   "cell_type": "code",
   "execution_count": 7,
   "metadata": {},
   "outputs": [
    {
     "ename": "TypeError",
     "evalue": "UNet_Attn.forward() missing 3 required positional arguments: 't', 'class_vector', and 'depth_vector'",
     "output_type": "error",
     "traceback": [
      "\u001b[1;31m---------------------------------------------------------------------------\u001b[0m",
      "\u001b[1;31mTypeError\u001b[0m                                 Traceback (most recent call last)",
      "Cell \u001b[1;32mIn[7], line 12\u001b[0m\n\u001b[0;32m      7\u001b[0m model \u001b[38;5;241m=\u001b[39m UNet_Attn(num_classes\u001b[38;5;241m=\u001b[39m\u001b[38;5;241m18\u001b[39m, dropout_prob\u001b[38;5;241m=\u001b[39m\u001b[38;5;241m0.2\u001b[39m, device\u001b[38;5;241m=\u001b[39mdevice)\u001b[38;5;241m.\u001b[39mto(device)\n\u001b[0;32m      8\u001b[0m \u001b[38;5;66;03m#ema_model = copy.deepcopy(model).eval().requires_grad_(False)\u001b[39;00m\n\u001b[0;32m      9\u001b[0m \n\u001b[0;32m     10\u001b[0m \u001b[38;5;66;03m#ema_model.load_state_dict(torch.load('models/unet_attn_dropout_0.2_ema_o6mtkrvr.pth', map_location=device))\u001b[39;00m\n\u001b[1;32m---> 12\u001b[0m \u001b[43mmodel\u001b[49m\u001b[43m(\u001b[49m\u001b[43mtorch\u001b[49m\u001b[38;5;241;43m.\u001b[39;49m\u001b[43mrandn\u001b[49m\u001b[43m(\u001b[49m\u001b[38;5;241;43m1\u001b[39;49m\u001b[43m,\u001b[49m\u001b[43m \u001b[49m\u001b[38;5;241;43m3\u001b[39;49m\u001b[43m,\u001b[49m\u001b[43m \u001b[49m\u001b[38;5;241;43m64\u001b[39;49m\u001b[43m,\u001b[49m\u001b[43m \u001b[49m\u001b[38;5;241;43m64\u001b[39;49m\u001b[43m)\u001b[49m\u001b[38;5;241;43m.\u001b[39;49m\u001b[43mto\u001b[49m\u001b[43m(\u001b[49m\u001b[43mdevice\u001b[49m\u001b[43m)\u001b[49m\u001b[43m)\u001b[49m\u001b[38;5;241m.\u001b[39mshape\n",
      "File \u001b[1;32mc:\\Users\\fahrn\\Documents\\Classes\\vdl\\fhnw-ds-vdl\\.venv\\Lib\\site-packages\\torch\\nn\\modules\\module.py:1736\u001b[0m, in \u001b[0;36mModule._wrapped_call_impl\u001b[1;34m(self, *args, **kwargs)\u001b[0m\n\u001b[0;32m   1734\u001b[0m     \u001b[38;5;28;01mreturn\u001b[39;00m \u001b[38;5;28mself\u001b[39m\u001b[38;5;241m.\u001b[39m_compiled_call_impl(\u001b[38;5;241m*\u001b[39margs, \u001b[38;5;241m*\u001b[39m\u001b[38;5;241m*\u001b[39mkwargs)  \u001b[38;5;66;03m# type: ignore[misc]\u001b[39;00m\n\u001b[0;32m   1735\u001b[0m \u001b[38;5;28;01melse\u001b[39;00m:\n\u001b[1;32m-> 1736\u001b[0m     \u001b[38;5;28;01mreturn\u001b[39;00m \u001b[38;5;28;43mself\u001b[39;49m\u001b[38;5;241;43m.\u001b[39;49m\u001b[43m_call_impl\u001b[49m\u001b[43m(\u001b[49m\u001b[38;5;241;43m*\u001b[39;49m\u001b[43margs\u001b[49m\u001b[43m,\u001b[49m\u001b[43m \u001b[49m\u001b[38;5;241;43m*\u001b[39;49m\u001b[38;5;241;43m*\u001b[39;49m\u001b[43mkwargs\u001b[49m\u001b[43m)\u001b[49m\n",
      "File \u001b[1;32mc:\\Users\\fahrn\\Documents\\Classes\\vdl\\fhnw-ds-vdl\\.venv\\Lib\\site-packages\\torch\\nn\\modules\\module.py:1747\u001b[0m, in \u001b[0;36mModule._call_impl\u001b[1;34m(self, *args, **kwargs)\u001b[0m\n\u001b[0;32m   1742\u001b[0m \u001b[38;5;66;03m# If we don't have any hooks, we want to skip the rest of the logic in\u001b[39;00m\n\u001b[0;32m   1743\u001b[0m \u001b[38;5;66;03m# this function, and just call forward.\u001b[39;00m\n\u001b[0;32m   1744\u001b[0m \u001b[38;5;28;01mif\u001b[39;00m \u001b[38;5;129;01mnot\u001b[39;00m (\u001b[38;5;28mself\u001b[39m\u001b[38;5;241m.\u001b[39m_backward_hooks \u001b[38;5;129;01mor\u001b[39;00m \u001b[38;5;28mself\u001b[39m\u001b[38;5;241m.\u001b[39m_backward_pre_hooks \u001b[38;5;129;01mor\u001b[39;00m \u001b[38;5;28mself\u001b[39m\u001b[38;5;241m.\u001b[39m_forward_hooks \u001b[38;5;129;01mor\u001b[39;00m \u001b[38;5;28mself\u001b[39m\u001b[38;5;241m.\u001b[39m_forward_pre_hooks\n\u001b[0;32m   1745\u001b[0m         \u001b[38;5;129;01mor\u001b[39;00m _global_backward_pre_hooks \u001b[38;5;129;01mor\u001b[39;00m _global_backward_hooks\n\u001b[0;32m   1746\u001b[0m         \u001b[38;5;129;01mor\u001b[39;00m _global_forward_hooks \u001b[38;5;129;01mor\u001b[39;00m _global_forward_pre_hooks):\n\u001b[1;32m-> 1747\u001b[0m     \u001b[38;5;28;01mreturn\u001b[39;00m \u001b[43mforward_call\u001b[49m\u001b[43m(\u001b[49m\u001b[38;5;241;43m*\u001b[39;49m\u001b[43margs\u001b[49m\u001b[43m,\u001b[49m\u001b[43m \u001b[49m\u001b[38;5;241;43m*\u001b[39;49m\u001b[38;5;241;43m*\u001b[39;49m\u001b[43mkwargs\u001b[49m\u001b[43m)\u001b[49m\n\u001b[0;32m   1749\u001b[0m result \u001b[38;5;241m=\u001b[39m \u001b[38;5;28;01mNone\u001b[39;00m\n\u001b[0;32m   1750\u001b[0m called_always_called_hooks \u001b[38;5;241m=\u001b[39m \u001b[38;5;28mset\u001b[39m()\n",
      "\u001b[1;31mTypeError\u001b[0m: UNet_Attn.forward() missing 3 required positional arguments: 't', 'class_vector', and 'depth_vector'"
     ]
    }
   ],
   "source": [
    "import torch\n",
    "from core import UNet_Attn\n",
    "import copy\n",
    "\n",
    "device = torch.device('cuda' if torch.cuda.is_available() else 'cpu')\n",
    "\n",
    "model = UNet_Attn(num_classes=18, dropout_prob=0.2, device=device).to(device)\n",
    "#ema_model = copy.deepcopy(model).eval().requires_grad_(False)\n",
    "\n",
    "#ema_model.load_state_dict(torch.load('models/unet_attn_dropout_0.2_ema_o6mtkrvr.pth', map_location=device))\n"
   ]
  },
  {
   "cell_type": "code",
   "execution_count": 188,
   "metadata": {},
   "outputs": [
    {
     "data": {
      "text/plain": [
       "torch.Size([1, 5, 18])"
      ]
     },
     "execution_count": 188,
     "metadata": {},
     "output_type": "execute_result"
    }
   ],
   "source": [
    "torch.randn(5, 18).unsqueeze(0).shape"
   ]
  },
  {
   "cell_type": "code",
   "execution_count": 189,
   "metadata": {},
   "outputs": [
    {
     "name": "stdout",
     "output_type": "stream",
     "text": [
      "tensor([0., 1., 1., 1., 0., 0., 0., 0., 0., 1., 1., 0., 0., 0., 1., 0., 0., 0.])\n",
      "tensor([0.0000, 3.5806, 3.5806, 3.5806, 0.0000, 0.0000, 0.0000, 0.0000, 0.0000,\n",
      "        3.5806, 3.5806, 0.0000, 0.0000, 0.0000, 3.5806, 0.0000, 0.0000, 0.0000])\n"
     ]
    },
    {
     "data": {
      "image/png": "[encoded data removed]",
      "text/plain": [
       "<Figure size 2000x600 with 3 Axes>"
      ]
     },
     "metadata": {},
     "output_type": "display_data"
    },
    {
     "name": "stdout",
     "output_type": "stream",
     "text": [
      "--- Model Receipt for UNet_Attn ---\n",
      "\n",
      "Training Time: 6.62 hours\n",
      "Total parameters: 23539331\n",
      "Trainable parameters: 23539331\n",
      "Non-trainable parameters: 0\n",
      "Device: cuda:0\n",
      "\n",
      "Model Architecture:\n",
      "\n",
      "UNet_Attn(\n",
      "  (inc): DoubleConv(\n",
      "    (double_conv): Sequential(\n",
      "      (0): Conv2d(3, 64, kernel_size=(3, 3), stride=(1, 1), padding=(1, 1), bias=False)\n",
      "      (1): GroupNorm(1, 64, eps=1e-05, affine=True)\n",
      "      (2): GELU(approximate='none')\n",
      "      (3): Dropout(p=0.2, inplace=False)\n",
      "      (4): Conv2d(64, 64, kernel_size=(3, 3), stride=(1, 1), padding=(1, 1), bias=False)\n",
      "      (5): GroupNorm(1, 64, eps=1e-05, affine=True)\n",
      "    )\n",
      "  )\n",
      "  (down1): Down(\n",
      "    (maxpool_conv): Sequential(\n",
      "      (0): MaxPool2d(kernel_size=2, stride=2, padding=0, dilation=1, ceil_mode=False)\n",
      "      (1): DoubleConv(\n",
      "        (double_conv): Sequential(\n",
      "          (0): Conv2d(64, 64, kernel_size=(3, 3), stride=(1, 1), padding=(1, 1), bias=False)\n",
      "          (1): GroupNorm(1, 64, eps=1e-05, affine=True)\n",
      "          (2): GELU(approximate='none')\n",
      "          (3): Dropout(p=0.2, inplace=False)\n",
      "          (4): Conv2d(64, 64, kernel_size=(3, 3), stride=(1, 1), padding=(1, 1), bias=False)\n",
      "          (5): GroupNorm(1, 64, eps=1e-05, affine=True)\n",
      "        )\n",
      "      )\n",
      "      (2): DoubleConv(\n",
      "        (double_conv): Sequential(\n",
      "          (0): Conv2d(64, 128, kernel_size=(3, 3), stride=(1, 1), padding=(1, 1), bias=False)\n",
      "          (1): GroupNorm(1, 128, eps=1e-05, affine=True)\n",
      "          (2): GELU(approximate='none')\n",
      "          (3): Dropout(p=0.2, inplace=False)\n",
      "          (4): Conv2d(128, 128, kernel_size=(3, 3), stride=(1, 1), padding=(1, 1), bias=False)\n",
      "          (5): GroupNorm(1, 128, eps=1e-05, affine=True)\n",
      "        )\n",
      "      )\n",
      "    )\n",
      "    (emb_layer): Sequential(\n",
      "      (0): SiLU()\n",
      "      (1): Linear(in_features=256, out_features=128, bias=True)\n",
      "    )\n",
      "  )\n",
      "  (sa1): SelfAttention(\n",
      "    (mha): MultiheadAttention(\n",
      "      (out_proj): NonDynamicallyQuantizableLinear(in_features=128, out_features=128, bias=True)\n",
      "    )\n",
      "    (ln): LayerNorm((128,), eps=1e-05, elementwise_affine=True)\n",
      "    (ff_self): Sequential(\n",
      "      (0): LayerNorm((128,), eps=1e-05, elementwise_affine=True)\n",
      "      (1): Linear(in_features=128, out_features=128, bias=True)\n",
      "      (2): GELU(approximate='none')\n",
      "      (3): Linear(in_features=128, out_features=128, bias=True)\n",
      "    )\n",
      "  )\n",
      "  (down2): Down(\n",
      "    (maxpool_conv): Sequential(\n",
      "      (0): MaxPool2d(kernel_size=2, stride=2, padding=0, dilation=1, ceil_mode=False)\n",
      "      (1): DoubleConv(\n",
      "        (double_conv): Sequential(\n",
      "          (0): Conv2d(128, 128, kernel_size=(3, 3), stride=(1, 1), padding=(1, 1), bias=False)\n",
      "          (1): GroupNorm(1, 128, eps=1e-05, affine=True)\n",
      "          (2): GELU(approximate='none')\n",
      "          (3): Dropout(p=0.2, inplace=False)\n",
      "          (4): Conv2d(128, 128, kernel_size=(3, 3), stride=(1, 1), padding=(1, 1), bias=False)\n",
      "          (5): GroupNorm(1, 128, eps=1e-05, affine=True)\n",
      "        )\n",
      "      )\n",
      "      (2): DoubleConv(\n",
      "        (double_conv): Sequential(\n",
      "          (0): Conv2d(128, 256, kernel_size=(3, 3), stride=(1, 1), padding=(1, 1), bias=False)\n",
      "          (1): GroupNorm(1, 256, eps=1e-05, affine=True)\n",
      "          (2): GELU(approximate='none')\n",
      "          (3): Dropout(p=0.2, inplace=False)\n",
      "          (4): Conv2d(256, 256, kernel_size=(3, 3), stride=(1, 1), padding=(1, 1), bias=False)\n",
      "          (5): GroupNorm(1, 256, eps=1e-05, affine=True)\n",
      "        )\n",
      "      )\n",
      "    )\n",
      "    (emb_layer): Sequential(\n",
      "      (0): SiLU()\n",
      "      (1): Linear(in_features=256, out_features=256, bias=True)\n",
      "    )\n",
      "  )\n",
      "  (sa2): SelfAttention(\n",
      "    (mha): MultiheadAttention(\n",
      "      (out_proj): NonDynamicallyQuantizableLinear(in_features=256, out_features=256, bias=True)\n",
      "    )\n",
      "    (ln): LayerNorm((256,), eps=1e-05, elementwise_affine=True)\n",
      "    (ff_self): Sequential(\n",
      "      (0): LayerNorm((256,), eps=1e-05, elementwise_affine=True)\n",
      "      (1): Linear(in_features=256, out_features=256, bias=True)\n",
      "      (2): GELU(approximate='none')\n",
      "      (3): Linear(in_features=256, out_features=256, bias=True)\n",
      "    )\n",
      "  )\n",
      "  (down3): Down(\n",
      "    (maxpool_conv): Sequential(\n",
      "      (0): MaxPool2d(kernel_size=2, stride=2, padding=0, dilation=1, ceil_mode=False)\n",
      "      (1): DoubleConv(\n",
      "        (double_conv): Sequential(\n",
      "          (0): Conv2d(256, 256, kernel_size=(3, 3), stride=(1, 1), padding=(1, 1), bias=False)\n",
      "          (1): GroupNorm(1, 256, eps=1e-05, affine=True)\n",
      "          (2): GELU(approximate='none')\n",
      "          (3): Dropout(p=0.2, inplace=False)\n",
      "          (4): Conv2d(256, 256, kernel_size=(3, 3), stride=(1, 1), padding=(1, 1), bias=False)\n",
      "          (5): GroupNorm(1, 256, eps=1e-05, affine=True)\n",
      "        )\n",
      "      )\n",
      "      (2): DoubleConv(\n",
      "        (double_conv): Sequential(\n",
      "          (0): Conv2d(256, 256, kernel_size=(3, 3), stride=(1, 1), padding=(1, 1), bias=False)\n",
      "          (1): GroupNorm(1, 256, eps=1e-05, affine=True)\n",
      "          (2): GELU(approximate='none')\n",
      "          (3): Dropout(p=0.2, inplace=False)\n",
      "          (4): Conv2d(256, 256, kernel_size=(3, 3), stride=(1, 1), padding=(1, 1), bias=False)\n",
      "          (5): GroupNorm(1, 256, eps=1e-05, affine=True)\n",
      "        )\n",
      "      )\n",
      "    )\n",
      "    (emb_layer): Sequential(\n",
      "      (0): SiLU()\n",
      "      (1): Linear(in_features=256, out_features=256, bias=True)\n",
      "    )\n",
      "  )\n",
      "  (sa3): SelfAttention(\n",
      "    (mha): MultiheadAttention(\n",
      "      (out_proj): NonDynamicallyQuantizableLinear(in_features=256, out_features=256, bias=True)\n",
      "    )\n",
      "    (ln): LayerNorm((256,), eps=1e-05, elementwise_affine=True)\n",
      "    (ff_self): Sequential(\n",
      "      (0): LayerNorm((256,), eps=1e-05, elementwise_affine=True)\n",
      "      (1): Linear(in_features=256, out_features=256, bias=True)\n",
      "      (2): GELU(approximate='none')\n",
      "      (3): Linear(in_features=256, out_features=256, bias=True)\n",
      "    )\n",
      "  )\n",
      "  (bot1): DoubleConv(\n",
      "    (double_conv): Sequential(\n",
      "      (0): Conv2d(256, 512, kernel_size=(3, 3), stride=(1, 1), padding=(1, 1), bias=False)\n",
      "      (1): GroupNorm(1, 512, eps=1e-05, affine=True)\n",
      "      (2): GELU(approximate='none')\n",
      "      (3): Dropout(p=0.2, inplace=False)\n",
      "      (4): Conv2d(512, 512, kernel_size=(3, 3), stride=(1, 1), padding=(1, 1), bias=False)\n",
      "      (5): GroupNorm(1, 512, eps=1e-05, affine=True)\n",
      "    )\n",
      "  )\n",
      "  (bot2): DoubleConv(\n",
      "    (double_conv): Sequential(\n",
      "      (0): Conv2d(512, 512, kernel_size=(3, 3), stride=(1, 1), padding=(1, 1), bias=False)\n",
      "      (1): GroupNorm(1, 512, eps=1e-05, affine=True)\n",
      "      (2): GELU(approximate='none')\n",
      "      (3): Dropout(p=0.2, inplace=False)\n",
      "      (4): Conv2d(512, 512, kernel_size=(3, 3), stride=(1, 1), padding=(1, 1), bias=False)\n",
      "      (5): GroupNorm(1, 512, eps=1e-05, affine=True)\n",
      "    )\n",
      "  )\n",
      "  (bot3): DoubleConv(\n",
      "    (double_conv): Sequential(\n",
      "      (0): Conv2d(512, 256, kernel_size=(3, 3), stride=(1, 1), padding=(1, 1), bias=False)\n",
      "      (1): GroupNorm(1, 256, eps=1e-05, affine=True)\n",
      "      (2): GELU(approximate='none')\n",
      "      (3): Dropout(p=0.2, inplace=False)\n",
      "      (4): Conv2d(256, 256, kernel_size=(3, 3), stride=(1, 1), padding=(1, 1), bias=False)\n",
      "      (5): GroupNorm(1, 256, eps=1e-05, affine=True)\n",
      "    )\n",
      "  )\n",
      "  (up1): Up(\n",
      "    (up): Upsample(scale_factor=2.0, mode='bilinear')\n",
      "    (conv): Sequential(\n",
      "      (0): DoubleConv(\n",
      "        (double_conv): Sequential(\n",
      "          (0): Conv2d(512, 512, kernel_size=(3, 3), stride=(1, 1), padding=(1, 1), bias=False)\n",
      "          (1): GroupNorm(1, 512, eps=1e-05, affine=True)\n",
      "          (2): GELU(approximate='none')\n",
      "          (3): Dropout(p=0.2, inplace=False)\n",
      "          (4): Conv2d(512, 512, kernel_size=(3, 3), stride=(1, 1), padding=(1, 1), bias=False)\n",
      "          (5): GroupNorm(1, 512, eps=1e-05, affine=True)\n",
      "        )\n",
      "      )\n",
      "      (1): DoubleConv(\n",
      "        (double_conv): Sequential(\n",
      "          (0): Conv2d(512, 256, kernel_size=(3, 3), stride=(1, 1), padding=(1, 1), bias=False)\n",
      "          (1): GroupNorm(1, 256, eps=1e-05, affine=True)\n",
      "          (2): GELU(approximate='none')\n",
      "          (3): Dropout(p=0.2, inplace=False)\n",
      "          (4): Conv2d(256, 128, kernel_size=(3, 3), stride=(1, 1), padding=(1, 1), bias=False)\n",
      "          (5): GroupNorm(1, 128, eps=1e-05, affine=True)\n",
      "        )\n",
      "      )\n",
      "    )\n",
      "    (emb_layer): Sequential(\n",
      "      (0): SiLU()\n",
      "      (1): Linear(in_features=256, out_features=128, bias=True)\n",
      "    )\n",
      "  )\n",
      "  (sa4): SelfAttention(\n",
      "    (mha): MultiheadAttention(\n",
      "      (out_proj): NonDynamicallyQuantizableLinear(in_features=128, out_features=128, bias=True)\n",
      "    )\n",
      "    (ln): LayerNorm((128,), eps=1e-05, elementwise_affine=True)\n",
      "    (ff_self): Sequential(\n",
      "      (0): LayerNorm((128,), eps=1e-05, elementwise_affine=True)\n",
      "      (1): Linear(in_features=128, out_features=128, bias=True)\n",
      "      (2): GELU(approximate='none')\n",
      "      (3): Linear(in_features=128, out_features=128, bias=True)\n",
      "    )\n",
      "  )\n",
      "  (up2): Up(\n",
      "    (up): Upsample(scale_factor=2.0, mode='bilinear')\n",
      "    (conv): Sequential(\n",
      "      (0): DoubleConv(\n",
      "        (double_conv): Sequential(\n",
      "          (0): Conv2d(256, 256, kernel_size=(3, 3), stride=(1, 1), padding=(1, 1), bias=False)\n",
      "          (1): GroupNorm(1, 256, eps=1e-05, affine=True)\n",
      "          (2): GELU(approximate='none')\n",
      "          (3): Dropout(p=0.2, inplace=False)\n",
      "          (4): Conv2d(256, 256, kernel_size=(3, 3), stride=(1, 1), padding=(1, 1), bias=False)\n",
      "          (5): GroupNorm(1, 256, eps=1e-05, affine=True)\n",
      "        )\n",
      "      )\n",
      "      (1): DoubleConv(\n",
      "        (double_conv): Sequential(\n",
      "          (0): Conv2d(256, 128, kernel_size=(3, 3), stride=(1, 1), padding=(1, 1), bias=False)\n",
      "          (1): GroupNorm(1, 128, eps=1e-05, affine=True)\n",
      "          (2): GELU(approximate='none')\n",
      "          (3): Dropout(p=0.2, inplace=False)\n",
      "          (4): Conv2d(128, 64, kernel_size=(3, 3), stride=(1, 1), padding=(1, 1), bias=False)\n",
      "          (5): GroupNorm(1, 64, eps=1e-05, affine=True)\n",
      "        )\n",
      "      )\n",
      "    )\n",
      "    (emb_layer): Sequential(\n",
      "      (0): SiLU()\n",
      "      (1): Linear(in_features=256, out_features=64, bias=True)\n",
      "    )\n",
      "  )\n",
      "  (sa5): SelfAttention(\n",
      "    (mha): MultiheadAttention(\n",
      "      (out_proj): NonDynamicallyQuantizableLinear(in_features=64, out_features=64, bias=True)\n",
      "    )\n",
      "    (ln): LayerNorm((64,), eps=1e-05, elementwise_affine=True)\n",
      "    (ff_self): Sequential(\n",
      "      (0): LayerNorm((64,), eps=1e-05, elementwise_affine=True)\n",
      "      (1): Linear(in_features=64, out_features=64, bias=True)\n",
      "      (2): GELU(approximate='none')\n",
      "      (3): Linear(in_features=64, out_features=64, bias=True)\n",
      "    )\n",
      "  )\n",
      "  (up3): Up(\n",
      "    (up): Upsample(scale_factor=2.0, mode='bilinear')\n",
      "    (conv): Sequential(\n",
      "      (0): DoubleConv(\n",
      "        (double_conv): Sequential(\n",
      "          (0): Conv2d(128, 128, kernel_size=(3, 3), stride=(1, 1), padding=(1, 1), bias=False)\n",
      "          (1): GroupNorm(1, 128, eps=1e-05, affine=True)\n",
      "          (2): GELU(approximate='none')\n",
      "          (3): Dropout(p=0.2, inplace=False)\n",
      "          (4): Conv2d(128, 128, kernel_size=(3, 3), stride=(1, 1), padding=(1, 1), bias=False)\n",
      "          (5): GroupNorm(1, 128, eps=1e-05, affine=True)\n",
      "        )\n",
      "      )\n",
      "      (1): DoubleConv(\n",
      "        (double_conv): Sequential(\n",
      "          (0): Conv2d(128, 64, kernel_size=(3, 3), stride=(1, 1), padding=(1, 1), bias=False)\n",
      "          (1): GroupNorm(1, 64, eps=1e-05, affine=True)\n",
      "          (2): GELU(approximate='none')\n",
      "          (3): Dropout(p=0.2, inplace=False)\n",
      "          (4): Conv2d(64, 64, kernel_size=(3, 3), stride=(1, 1), padding=(1, 1), bias=False)\n",
      "          (5): GroupNorm(1, 64, eps=1e-05, affine=True)\n",
      "        )\n",
      "      )\n",
      "    )\n",
      "    (emb_layer): Sequential(\n",
      "      (0): SiLU()\n",
      "      (1): Linear(in_features=256, out_features=64, bias=True)\n",
      "    )\n",
      "  )\n",
      "  (sa6): SelfAttention(\n",
      "    (mha): MultiheadAttention(\n",
      "      (out_proj): NonDynamicallyQuantizableLinear(in_features=64, out_features=64, bias=True)\n",
      "    )\n",
      "    (ln): LayerNorm((64,), eps=1e-05, elementwise_affine=True)\n",
      "    (ff_self): Sequential(\n",
      "      (0): LayerNorm((64,), eps=1e-05, elementwise_affine=True)\n",
      "      (1): Linear(in_features=64, out_features=64, bias=True)\n",
      "      (2): GELU(approximate='none')\n",
      "      (3): Linear(in_features=64, out_features=64, bias=True)\n",
      "    )\n",
      "  )\n",
      "  (outc): Conv2d(64, 3, kernel_size=(1, 1), stride=(1, 1))\n",
      "  (class_emb): Linear(in_features=18, out_features=256, bias=True)\n",
      "  (depth_emb): Linear(in_features=18, out_features=256, bias=True)\n",
      "  (t_proj): Linear(in_features=768, out_features=256, bias=True)\n",
      ")\n"
     ]
    },
    {
     "name": "stderr",
     "output_type": "stream",
     "text": [
      "06:30:54 - INFO: Sampling 5 new images from UNet_Attn...\n",
      "999it [01:13, 13.55it/s]\n",
      "06:32:08 - INFO: Sampling 5 new images from UNet_Attn...\n",
      "999it [01:20, 12.48it/s]"
     ]
    },
    {
     "name": "stdout",
     "output_type": "stream",
     "text": [
      "Default Model Samples:\n",
      "ema: torch.Size([3, 64, 64])\n",
      "default: torch.Size([3, 64, 64])\n"
     ]
    },
    {
     "name": "stderr",
     "output_type": "stream",
     "text": [
      "\n"
     ]
    }
   ],
   "source": [
    "class_vec = torch.randint(0, 2, (18,), dtype=torch.float32)\n",
    "# create depth vector of size 18 and put random numbers where class vector is 1\n",
    "depth_vec = torch.zeros(18, dtype=torch.float32)\n",
    "# random depth float value between 1 and 5\n",
    "random_depth_value = torch.rand(1) * 4 + 1\n",
    "depth_vec[class_vec == 1] = random_depth_value\n",
    "\n",
    "print(class_vec)\n",
    "print(depth_vec)\n",
    "analyzer = Analyzer(model, device)\n",
    "analyzer.plot('o6mtkrvr')\n",
    "analyzer.model_receipt()\n",
    "analyzer.sample_images('o6mtkrvr', class_vec, depth_vec)"
   ]
  },
  {
   "cell_type": "markdown",
   "metadata": {},
   "source": [
    "## Modules"
   ]
  },
  {
   "cell_type": "code",
   "execution_count": 5,
   "metadata": {},
   "outputs": [
    {
     "name": "stdout",
     "output_type": "stream",
     "text": [
      "--- Model: UNet_Baseline ---\n",
      "Total parameters: 1771907\n",
      "Input shape: torch.Size([1, 3, 64, 64])\n",
      "Output shape: torch.Size([1, 3, 64, 64])\n",
      "\n",
      "--- Model: UNet_Attn ---\n",
      "Total parameters: 23539331\n",
      "Input shape: torch.Size([1, 3, 64, 64])\n",
      "Output shape: torch.Size([1, 3, 64, 64])\n",
      "\n"
     ]
    }
   ],
   "source": [
    "from core import UNet_Baseline\n",
    "from core import UNet_Attn\n",
    "\n",
    "# Instantiate the model\n",
    "baseline = UNet_Baseline(num_classes=18, device=device).to(device)\n",
    "attn = UNet_Attn(num_classes=18, device=device).to(device)\n",
    "\n",
    "# Dummy inputs\n",
    "x = torch.randn(1, 3, 64, 64).to(device)\n",
    "t = torch.randint(0, 1000, (x.shape[0],)).to(device)\n",
    "class_vector = torch.ones((x.shape[0], 18)).to(device)\n",
    "depth_vector = torch.zeros((x.shape[0], 18)).to(device)\n",
    "\n",
    "for net in [baseline, attn]:\n",
    "    output = net(x, t, class_vector, depth_vector)\n",
    "    print(f'--- Model: {net.__class__.__name__} ---')\n",
    "    print(f\"Total parameters: {sum(p.numel() for p in net.parameters())}\")\n",
    "    print(f'Input shape: {x.shape}')\n",
    "    print(f\"Output shape: {output.shape}\")\n",
    "    print()"
   ]
  },
  {
   "cell_type": "markdown",
   "metadata": {},
   "source": [
    "## Diffusion"
   ]
  },
  {
   "cell_type": "code",
   "execution_count": 6,
   "metadata": {},
   "outputs": [],
   "source": [
    "from diffusion import Diffusion"
   ]
  },
  {
   "cell_type": "markdown",
   "metadata": {},
   "source": [
    "## Trainer"
   ]
  },
  {
   "cell_type": "code",
   "execution_count": 7,
   "metadata": {},
   "outputs": [],
   "source": [
    "from trainer import Trainer"
   ]
  },
  {
   "cell_type": "code",
   "execution_count": 94,
   "metadata": {},
   "outputs": [
    {
     "name": "stdout",
     "output_type": "stream",
     "text": [
      "Training samples: 16\n",
      "Validation samples: 4\n",
      "Testing samples: 4\n"
     ]
    }
   ],
   "source": [
    "train_dataset, val_dataset, test_dataset = split_dataset(dataset[:24], train_ratio=0.7, val_ratio=0.2, test_ratio=0.1)\n",
    "\n",
    "print(f\"Training samples: {len(train_dataset)}\")\n",
    "print(f\"Validation samples: {len(val_dataset)}\")\n",
    "print(f\"Testing samples: {len(test_dataset)}\")\n",
    "\n",
    "train_loader = DataLoader(train_dataset, batch_size=4, shuffle=True)\n",
    "val_loader = DataLoader(val_dataset, batch_size=4, shuffle=False)\n",
    "test_loader = DataLoader(test_dataset, batch_size=4, shuffle=False)"
   ]
  },
  {
   "cell_type": "code",
   "execution_count": 96,
   "metadata": {},
   "outputs": [
    {
     "name": "stderr",
     "output_type": "stream",
     "text": [
      "C:\\Users\\fahrn\\AppData\\Local\\Temp\\ipykernel_21016\\74155036.py:10: FutureWarning: You are using `torch.load` with `weights_only=False` (the current default value), which uses the default pickle module implicitly. It is possible to construct malicious pickle data which will execute arbitrary code during unpickling (See https://github.com/pytorch/pytorch/blob/main/SECURITY.md#untrusted-models for more details). In a future release, the default value for `weights_only` will be flipped to `True`. This limits the functions that could be executed during unpickling. Arbitrary objects will no longer be allowed to be loaded via this mode unless they are explicitly allowlisted by the user via `torch.serialization.add_safe_globals`. We recommend you start setting `weights_only=True` for any use case where you don't have full control of the loaded file. Please open an issue on GitHub for any issues related to this experimental feature.\n",
      "  ema_model.load_state_dict(torch.load('models/unet_attn_dropout_0.2_ema_o6mtkrvr.pth', map_location=device))\n"
     ]
    },
    {
     "data": {
      "text/plain": [
       "<All keys matched successfully>"
      ]
     },
     "execution_count": 96,
     "metadata": {},
     "output_type": "execute_result"
    }
   ],
   "source": [
    "from core import UNet_Attn\n",
    "# import copy here\n",
    "import copy\n",
    "\n",
    "device = torch.device('cuda' if torch.cuda.is_available() else 'cpu')\n",
    "\n",
    "model = UNet_Attn(num_classes=18, dropout_prob=0.2, device=device).to(device)\n",
    "ema_model = copy.deepcopy(model).eval().requires_grad_(False)\n",
    "\n",
    "ema_model.load_state_dict(torch.load('models/unet_attn_dropout_0.2_ema_o6mtkrvr.pth', map_location=device))"
   ]
  },
  {
   "cell_type": "code",
   "execution_count": 135,
   "metadata": {},
   "outputs": [
    {
     "name": "stdout",
     "output_type": "stream",
     "text": [
      "['chair' 'floor' 'wall' 'box' 'bottle' 'cabinet' 'counter' 'picture'\n",
      " 'lamp' 'table' 'pillow' 'bed' 'door' 'bag' 'paper' 'window' 'ceiling'\n",
      " 'sofa']\n"
     ]
    }
   ],
   "source": [
    "# a 894-dimensional class vector with some 1s and 0s\n",
    "class_vector = torch.tensor(dataset[0][3]).unsqueeze(0)\n",
    "depth_vector = torch.tensor(dataset[0][4]).unsqueeze(0)\n",
    "\n",
    "dataset.resolved_names \n",
    "\n",
    "class_vector = torch.tensor([0]*18)\n",
    "print(dataloader.dataset.resolved_names)\n",
    "\n",
    "class_vector[0] = 1\n",
    "class_vector[15] = 1\n",
    "\n",
    "depth_vector = torch.tensor([0]*18)\n",
    "depth_vector[0] = 1.3\n",
    "depth_vector[15] = 3.0"
   ]
  },
  {
   "cell_type": "code",
   "execution_count": 136,
   "metadata": {},
   "outputs": [
    {
     "data": {
      "text/plain": [
       "tensor([1, 0, 0, 0, 0, 0, 0, 0, 0, 0, 0, 0, 0, 0, 0, 3, 0, 0])"
      ]
     },
     "execution_count": 136,
     "metadata": {},
     "output_type": "execute_result"
    }
   ],
   "source": [
    "depth_vector"
   ]
  },
  {
   "cell_type": "code",
   "execution_count": 117,
   "metadata": {},
   "outputs": [
    {
     "data": {
      "text/plain": [
       "tensor([0, 1, 1, 0, 1, 1, 1, 0, 0, 0, 1, 1, 0, 0, 0, 0, 0, 1], device='cuda:0')"
      ]
     },
     "execution_count": 117,
     "metadata": {},
     "output_type": "execute_result"
    }
   ],
   "source": [
    "# vector of rand int between 0 and 1000\n",
    "t = torch.randint(0, 2, (18,))\n",
    "t"
   ]
  },
  {
   "cell_type": "code",
   "execution_count": 11,
   "metadata": {},
   "outputs": [
    {
     "data": {
      "text/plain": [
       "(torch.Size([18]), torch.Size([18]))"
      ]
     },
     "execution_count": 11,
     "metadata": {},
     "output_type": "execute_result"
    }
   ],
   "source": [
    "class_vector.shape, depth_vector.shape"
   ]
  },
  {
   "cell_type": "code",
   "execution_count": 162,
   "metadata": {},
   "outputs": [
    {
     "data": {
      "text/plain": [
       "(tensor([1., 1., 0., 1., 1., 0., 0., 1., 0., 1., 0., 1., 1., 1., 0., 0., 0., 0.]),\n",
       " tensor([3.5020, 3.5020, 0.0000, 3.5020, 3.5020, 0.0000, 0.0000, 3.5020, 0.0000,\n",
       "         3.5020, 0.0000, 3.5020, 3.5020, 3.5020, 0.0000, 0.0000, 0.0000, 0.0000]))"
      ]
     },
     "execution_count": 162,
     "metadata": {},
     "output_type": "execute_result"
    }
   ],
   "source": [
    "class_vec = torch.randint(0, 2, (18,), dtype=torch.float32)\n",
    "# create depth vector of size 18 and put random numbers where class vector is 1\n",
    "depth_vec = torch.zeros(18, dtype=torch.float32)\n",
    "# random depth float value between 1 and 5\n",
    "random_depth_value = torch.rand(1) * 4 + 1\n",
    "depth_vec[class_vec == 1] = random_depth_value\n",
    "\n",
    "class_vec, depth_vec"
   ]
  },
  {
   "cell_type": "code",
   "execution_count": 151,
   "metadata": {},
   "outputs": [
    {
     "data": {
      "text/plain": [
       "((18,), torch.Size([18]))"
      ]
     },
     "execution_count": 151,
     "metadata": {},
     "output_type": "execute_result"
    }
   ],
   "source": [
    "dataset[0][3].shape, depth_vec.shape"
   ]
  },
  {
   "cell_type": "code",
   "execution_count": 168,
   "metadata": {},
   "outputs": [
    {
     "data": {
      "text/plain": [
       "tensor([[-1.3699, -1.3499,  0.2956, -0.2121, -1.0645, -0.2529,  0.1801,  0.8034,\n",
       "         -0.5629,  1.1299, -0.1499,  1.6647,  0.4075, -0.8150, -0.5623,  0.8271,\n",
       "          0.8679,  1.7021],\n",
       "        [ 0.6759, -0.3045,  0.0482,  1.1407,  1.0915, -0.1082,  0.9176, -1.2093,\n",
       "          0.3622, -0.6764,  0.1202,  0.2775, -1.0146,  1.2761,  1.0258, -0.7102,\n",
       "         -0.3212,  0.6506],\n",
       "        [-0.2277, -0.0103, -1.0557,  0.1271,  1.4329, -0.3883, -0.7710, -0.1681,\n",
       "          0.6162, -0.0086, -1.0318, -0.2279,  0.3163,  0.1782, -1.2993, -0.7808,\n",
       "          0.8477, -0.4030],\n",
       "        [ 0.9612,  0.3948, -0.4251, -0.7046,  1.1402,  0.1000,  1.6556,  0.7505,\n",
       "         -0.8409,  0.2214,  0.5243,  0.3529, -1.5270, -0.3965,  0.3960,  0.4018,\n",
       "          0.1686, -0.8878],\n",
       "        [-1.5587,  0.0707,  0.5291, -1.3588, -1.3615, -0.1360,  0.4712, -0.6185,\n",
       "         -0.6138,  0.3171, -0.3423, -0.0232, -0.1501, -0.5206, -1.0282, -1.4857,\n",
       "          0.9477,  0.8803]])"
      ]
     },
     "execution_count": 168,
     "metadata": {},
     "output_type": "execute_result"
    }
   ],
   "source": [
    "torch.randn((5,18))"
   ]
  },
  {
   "cell_type": "code",
   "execution_count": 176,
   "metadata": {},
   "outputs": [
    {
     "name": "stderr",
     "output_type": "stream",
     "text": [
      "05:34:32 - INFO: Sampling 5 new images from UNet_Attn...\n",
      "999it [00:58, 17.17it/s]\n"
     ]
    }
   ],
   "source": [
    "diffusion = Diffusion(beta_start=0.0001, beta_end=0.002, device=device)\n",
    "\n",
    "sampled_images = diffusion.sample(ema_model, 5, torch.randn((5,18)).to(device), torch.randn(5,18).to(device))"
   ]
  },
  {
   "cell_type": "code",
   "execution_count": 181,
   "metadata": {},
   "outputs": [
    {
     "name": "stderr",
     "output_type": "stream",
     "text": [
      "05:51:22 - WARNING: Clipping input data to the valid range for imshow with RGB data ([0..1] for floats or [0..255] for integers). Got range [-0.6846166..0.5138063].\n"
     ]
    },
    {
     "data": {
      "image/png": "[encoded data removed]",
      "text/plain": [
       "<Figure size 640x480 with 1 Axes>"
      ]
     },
     "metadata": {},
     "output_type": "display_data"
    }
   ],
   "source": [
    "from data import unnormalize\n",
    "\n",
    "plt.imshow(sampled_images[3].cpu().permute(1, 2, 0))\n",
    "plt.show()"
   ]
  },
  {
   "cell_type": "code",
   "execution_count": 16,
   "metadata": {},
   "outputs": [
    {
     "data": {
      "text/plain": [
       "<matplotlib.image.AxesImage at 0x283c12c8ce0>"
      ]
     },
     "execution_count": 16,
     "metadata": {},
     "output_type": "execute_result"
    },
    {
     "data": {
      "image/png": "[encoded data removed]",
      "text/plain": [
       "<Figure size 640x480 with 1 Axes>"
      ]
     },
     "metadata": {},
     "output_type": "display_data"
    }
   ],
   "source": [
    "plt.imshow(unnormalize(train_dataset[1][0], mean, std).permute(1, 2, 0))"
   ]
  },
  {
   "cell_type": "code",
   "execution_count": 17,
   "metadata": {},
   "outputs": [
    {
     "ename": "TypeError",
     "evalue": "can't convert cuda:0 device type tensor to numpy. Use Tensor.cpu() to copy the tensor to host memory first.",
     "output_type": "error",
     "traceback": [
      "\u001b[1;31m---------------------------------------------------------------------------\u001b[0m",
      "\u001b[1;31mTypeError\u001b[0m                                 Traceback (most recent call last)",
      "Cell \u001b[1;32mIn[17], line 1\u001b[0m\n\u001b[1;32m----> 1\u001b[0m \u001b[43mplot_image\u001b[49m\u001b[43m(\u001b[49m\u001b[43msampled_images\u001b[49m\u001b[43m[\u001b[49m\u001b[38;5;241;43m0\u001b[39;49m\u001b[43m]\u001b[49m\u001b[43m,\u001b[49m\u001b[43m \u001b[49m\u001b[43mmean\u001b[49m\u001b[43m,\u001b[49m\u001b[43m \u001b[49m\u001b[43mstd\u001b[49m\u001b[43m,\u001b[49m\u001b[43m \u001b[49m\u001b[43mvalue_range\u001b[49m\u001b[38;5;241;43m=\u001b[39;49m\u001b[38;5;124;43m\"\u001b[39;49m\u001b[38;5;124;43m[0, 1]\u001b[39;49m\u001b[38;5;124;43m\"\u001b[39;49m\u001b[43m)\u001b[49m\n",
      "Cell \u001b[1;32mIn[15], line 55\u001b[0m, in \u001b[0;36mplot_image\u001b[1;34m(image_tensor, mean, std, value_range)\u001b[0m\n\u001b[0;32m     52\u001b[0m unnormalized_image \u001b[38;5;241m=\u001b[39m unnormalize_image(image_tensor, mean, std, value_range)\n\u001b[0;32m     54\u001b[0m \u001b[38;5;66;03m# Convert to NumPy array\u001b[39;00m\n\u001b[1;32m---> 55\u001b[0m image_np \u001b[38;5;241m=\u001b[39m \u001b[43munnormalized_image\u001b[49m\u001b[38;5;241;43m.\u001b[39;49m\u001b[43mnumpy\u001b[49m\u001b[43m(\u001b[49m\u001b[43m)\u001b[49m\n\u001b[0;32m     57\u001b[0m \u001b[38;5;66;03m# Transpose to (H, W, C)\u001b[39;00m\n\u001b[0;32m     58\u001b[0m image_np \u001b[38;5;241m=\u001b[39m image_np\u001b[38;5;241m.\u001b[39mtranspose(\u001b[38;5;241m1\u001b[39m, \u001b[38;5;241m2\u001b[39m, \u001b[38;5;241m0\u001b[39m)\n",
      "\u001b[1;31mTypeError\u001b[0m: can't convert cuda:0 device type tensor to numpy. Use Tensor.cpu() to copy the tensor to host memory first."
     ]
    }
   ],
   "source": [
    "plot_image(sampled_images[0], mean, std, value_range=\"[0, 1]\")"
   ]
  },
  {
   "cell_type": "code",
   "execution_count": null,
   "metadata": {},
   "outputs": [],
   "source": []
  }
 ],
 "metadata": {
  "kernelspec": {
   "display_name": ".venv",
   "language": "python",
   "name": "python3"
  },
  "language_info": {
   "codemirror_mode": {
    "name": "ipython",
    "version": 3
   },
   "file_extension": ".py",
   "mimetype": "text/x-python",
   "name": "python",
   "nbconvert_exporter": "python",
   "pygments_lexer": "ipython3",
   "version": "3.12.5"
  }
 },
 "nbformat": 4,
 "nbformat_minor": 2
}
